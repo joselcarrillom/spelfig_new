{
 "cells": [
  {
   "cell_type": "markdown",
   "id": "OwCvgwK2ib5D",
   "metadata": {
    "id": "OwCvgwK2ib5D"
   },
   "source": [
    "## COMPARISON BETWEEN MULTI-COMPONENT GAUSSIAN AND ASYMMETRIC GAUSSIAN FITTING WITH SpELFiG\n",
    "\n",
    "Execute until cell 18, that will produce material enough for the report"
   ]
  },
  {
   "cell_type": "markdown",
   "id": "aAFsy1pZcYa0",
   "metadata": {
    "id": "aAFsy1pZcYa0"
   },
   "source": [
    "We locate ourselves in the directory in which the code and the spectra files are. The 2 next cell is a bash command (must not contain python syntax)"
   ]
  },
  {
   "cell_type": "code",
   "id": "f9511919800466ee",
   "metadata": {
    "colab": {
     "base_uri": "https://localhost:8080/"
    },
    "id": "f9511919800466ee",
    "outputId": "dc6298b4-9841-41c2-a003-ac6437f9d33d",
    "ExecuteTime": {
     "end_time": "2024-10-18T05:27:25.836659Z",
     "start_time": "2024-10-18T05:27:25.783379Z"
    }
   },
   "source": [
    "# Import libraries:\n",
    "\n",
    "import os\n",
    "import sys\n",
    "import time\n",
    "import numpy as np\n",
    "import pandas as pd\n",
    "import matplotlib.pyplot as plt\n",
    "from astropy.io import fits\n",
    "\n",
    "# Import Spelfig packages:\n",
    "import spl_fittersvs2 as spf\n",
    "import sps_setupvs2 as sps\n",
    "\n",
    "import warnings\n",
    "warnings.filterwarnings(\"ignore\")"
   ],
   "outputs": [],
   "execution_count": 31
  },
  {
   "cell_type": "code",
   "id": "2l9PENdTCc47",
   "metadata": {
    "executionInfo": {
     "elapsed": 10,
     "status": "ok",
     "timestamp": 1725521691020,
     "user": {
      "displayName": "Aksita Deo",
      "userId": "10398143209524373510"
     },
     "user_tz": -600
    },
    "id": "2l9PENdTCc47",
    "ExecuteTime": {
     "end_time": "2024-10-18T05:27:26.916425Z",
     "start_time": "2024-10-18T05:27:26.899354Z"
    }
   },
   "source": [
    "def open_manga_spectra(file):\n",
    "    smooth_sigma = 0.4 # To smooth the data with a gaussian kernel.\n",
    "    cube = fits.open(file)\n",
    "    flyspec = cube[1].data\n",
    "    hdu = cube[1].header\n",
    "    redshift = hdu['Z']\n",
    "\n",
    "    wave = (flyspec['wavelength']/(1+redshift))\n",
    "    gas_flux = flyspec['flux_lines']\n",
    "    err_flux = flyspec['flux_error']\n",
    "\n",
    "    spec = np.array([wave, gas_flux, err_flux]).T\n",
    "    # spec = gaussian_filter1d(spec, smooth_sigma, axis=0)\n",
    "\n",
    "    return spec, redshift\n",
    "\n",
    "# Function to properly extract the MAGPI spectra:\n",
    "def open_magpi_ppxf(file):\n",
    "    smooth_sigma = 0.4 # To smooth the data with a gaussian kernel.\n",
    "    flyspec = fits.open(file)\n",
    "    flyspec = flyspec[1].data\n",
    "\n",
    "    wave = flyspec['wavelength']\n",
    "    gas_flux = flyspec['lines flux']\n",
    "    err_flux = flyspec['flux error']\n",
    "\n",
    "    spec = np.array([wave, gas_flux, err_flux]).T\n",
    "    # spec = gaussian_filter1d(spec, smooth_sigma, axis=0)\n",
    "\n",
    "    return spec"
   ],
   "outputs": [],
   "execution_count": 32
  },
  {
   "metadata": {
    "ExecuteTime": {
     "end_time": "2024-10-18T05:27:27.436472Z",
     "start_time": "2024-10-18T05:27:27.414110Z"
    }
   },
   "cell_type": "code",
   "source": [
    "emission_line_models1 = {\n",
    "\t'He-II,1': {'wavelength':[3202.15], 'components': ['Gaussian']},\n",
    "\t'He-II,2': {'wavelength':[4685.74], 'components': ['Gaussian']},\n",
    "\t'Ne-V,1':  {'wavelength':[3345.81], 'components': ['Gaussian']},\n",
    "\t'Ne-V,2':  {'wavelength':[3425.81], 'components': ['Gaussian']},\n",
    "\t'O-II,1':  {'wavelength':[3726.03], 'components': ['Gaussian']},\n",
    "\t'O-II,2':  {'wavelength':[3728.73], 'components': ['Gaussian']},\n",
    "\t'Ne-III,1': {'wavelength':[3868.69], 'components': ['Gaussian']},\n",
    "\t'Ne-III,2': {'wavelength':[3967.40], 'components': ['Gaussian']},\n",
    "\t'H-ζ':    {'wavelength':[3889.05], 'components': ['Gaussian']},\n",
    "\t'H-ε':    {'wavelength':[3970.07], 'components': ['Gaussian']},\n",
    "\t'H-δ':    {'wavelength':[4101.73], 'components': ['Gaussian']},\n",
    "\t'H-γ':    {'wavelength':[4340.46], 'components': ['Gaussian']},\n",
    "\t'O-III,0':  {'wavelength':[4363.15], 'components': ['Gaussian']},\n",
    "\t'O-III,1':  {'wavelength':[4958.83], 'components': ['Gaussian']},\n",
    "\t'O-III,2':  {'wavelength':[5006.77], 'components': ['Gaussian']},\n",
    "\t'Ar-IV,1':  {'wavelength':[4711.30], 'components': ['Gaussian']},\n",
    "\t'Ar-IV,2':  {'wavelength':[4740.10], 'components': ['Gaussian']},\n",
    "\t'H-β':     {'wavelength':[4861.32], 'components': ['Gaussian']},\n",
    "\t'N-I,1':    {'wavelength':[5197.90], 'components': ['Gaussian']},\n",
    "\t'N-I,2':    {'wavelength':[5200.39], 'components': ['Gaussian']},\n",
    "\t'He-I':   {'wavelength':[5875.60], 'components': ['Gaussian']},\n",
    "\t'O-I,1':   {'wavelength':[6300.20], 'components': ['Gaussian']},\n",
    "\t'O-I,2':   {'wavelength':[6363.67], 'components': ['Gaussian']},\n",
    "\t'N-II,1':   {'wavelength':[6547.96], 'components': ['Gaussian']},\n",
    "\t'N-II,2':   {'wavelength':[6583.34], 'components': ['Gaussian']},\n",
    "\t'H-α':     {'wavelength':[6562.80], 'components': ['Gaussian']},\n",
    "\t'S-II,1':  {'wavelength': [6716.31], 'components': ['Gaussian']},\n",
    "\t'S-II,2':   {'wavelength':[6730.68], 'components': ['Gaussian']},\n",
    "\t'Ar-III': {'wavelength':[7135.67], 'components': ['Gaussian']},\n",
    "\t}\n",
    "\n",
    "emission_line_models2 = {\n",
    "\t'He-II,1': {'wavelength':[3202.15], 'components': ['Gaussian', 'Gaussian']},\n",
    "\t'He-II,2': {'wavelength':[4685.74], 'components': ['Gaussian', 'Gaussian']},\n",
    "\t'Ne-V,1':  {'wavelength':[3345.81], 'components': ['Gaussian']},\n",
    "\t'Ne-V,2':  {'wavelength':[3425.81], 'components': ['Gaussian']},\n",
    "\t'O-II,1':  {'wavelength':[3726.03], 'components': ['Gaussian']},\n",
    "\t'O-II,2':  {'wavelength':[3728.73], 'components': ['Gaussian']},\n",
    "\t'Ne-III,1': {'wavelength':[3868.69], 'components': ['Gaussian']},\n",
    "\t'Ne-III,2': {'wavelength':[3967.40], 'components': ['Gaussian']},\n",
    "\t'H-ζ':    {'wavelength':[3889.05], 'components': ['Gaussian', 'Gaussian']},\n",
    "\t'H-ε':    {'wavelength':[3970.07], 'components': ['Gaussian', 'Gaussian']},\n",
    "\t'H-δ':    {'wavelength':[4101.73], 'components': ['Gaussian', 'Gaussian']},\n",
    "\t'H-γ':    {'wavelength':[4340.46], 'components': ['Gaussian', 'Gaussian']},\n",
    "\t'O-III,0':  {'wavelength':[4363.15], 'components': ['Gaussian']},\n",
    "\t'O-III,1':  {'wavelength':[4958.83], 'components': ['Gaussian', 'Gaussian']},\n",
    "\t'O-III,2':  {'wavelength':[5006.77], 'components': ['Gaussian', 'Gaussian']},\n",
    "\t'Ar-IV,1':  {'wavelength':[4711.30], 'components': ['Gaussian']},\n",
    "\t'Ar-IV,2':  {'wavelength':[4740.10], 'components': ['Gaussian']},\n",
    "\t'H-β':     {'wavelength':[4861.32], 'components': ['Gaussian', 'Gaussian']},\n",
    "\t'N-I,1':    {'wavelength':[5197.90], 'components': ['Gaussian']},\n",
    "\t'N-I,2':    {'wavelength':[5200.39], 'components': ['Gaussian']},\n",
    "\t'He-I':   {'wavelength':[5875.60], 'components': ['Gaussian']},\n",
    "\t'O-I,1':   {'wavelength':[6300.20], 'components': ['Gaussian']},\n",
    "\t'O-I,2':   {'wavelength':[6363.67], 'components': ['Gaussian']},\n",
    "\t'N-II,1':   {'wavelength':[6547.96], 'components': ['Gaussian']},\n",
    "\t'N-II,2':   {'wavelength':[6583.34], 'components': ['Gaussian']},\n",
    "\t'H-α':     {'wavelength':[6562.80], 'components': ['Gaussian', 'Gaussian']},\n",
    "\t'S-II,1':  {'wavelength': [6716.31], 'components': ['Gaussian', 'Gaussian']},\n",
    "\t'S-II,2':   {'wavelength':[6730.68], 'components': ['Gaussian', 'Gaussian']},\n",
    "\t'Ar-III': {'wavelength':[7135.67], 'components': ['Gaussian']},\n",
    "\t}\n",
    "\n",
    "emission_line_models3 = {\n",
    "\t'He-II,1': {'wavelength':[3202.15], 'components': ['Asymmetric Gaussian']},\n",
    "\t'He-II,2': {'wavelength':[4685.74], 'components': ['Asymmetric Gaussian']},\n",
    "\t'Ne-V,1':  {'wavelength':[3345.81], 'components': ['Gaussian']},\n",
    "\t'Ne-V,2':  {'wavelength':[3425.81], 'components': ['Gaussian']},\n",
    "\t'O-II,1':  {'wavelength':[3726.03], 'components': ['Gaussian']},\n",
    "\t'O-II,2':  {'wavelength':[3728.73], 'components': ['Gaussian']},\n",
    "\t'Ne-III,1': {'wavelength':[3868.69], 'components': ['Gaussian']},\n",
    "\t'Ne-III,2': {'wavelength':[3967.40], 'components': ['Gaussian']},\n",
    "\t'H-ζ':    {'wavelength':[3889.05], 'components': ['Asymmetric Gaussian']},\n",
    "\t'H-ε':    {'wavelength':[3970.07], 'components': ['Asymmetric Gaussian']},\n",
    "\t'H-δ':    {'wavelength':[4101.73], 'components': ['Asymmetric Gaussian']},\n",
    "\t'H-γ':    {'wavelength':[4340.46], 'components': ['Asymmetric Gaussian']},\n",
    "\t'O-III,0':  {'wavelength':[4363.15], 'components': ['Gaussian']},\n",
    "\t'O-III,1':  {'wavelength':[4958.83], 'components': ['Asymmetric Gaussian']},\n",
    "\t'O-III,2':  {'wavelength':[5006.77], 'components': ['Asymmetric Gaussian']},\n",
    "\t'Ar-IV,1':  {'wavelength':[4711.30], 'components': ['Gaussian']},\n",
    "\t'Ar-IV,2':  {'wavelength':[4740.10], 'components': ['Gaussian']},\n",
    "\t'H-β':     {'wavelength':[4861.32], 'components': ['Asymmetric Gaussian']},\n",
    "\t'N-I,1':    {'wavelength':[5197.90], 'components': ['Gaussian']},\n",
    "\t'N-I,2':    {'wavelength':[5200.39], 'components': ['Gaussian']},\n",
    "\t'He-I':   {'wavelength':[5875.60], 'components': ['Gaussian']},\n",
    "\t'O-I,1':   {'wavelength':[6300.20], 'components': ['Gaussian']},\n",
    "\t'O-I,2':   {'wavelength':[6363.67], 'components': ['Gaussian']},\n",
    "\t'N-II,1':   {'wavelength':[6547.96], 'components': ['Gaussian']},\n",
    "\t'N-II,2':   {'wavelength':[6583.34], 'components': ['Gaussian']},\n",
    "\t'H-α':     {'wavelength':[6562.80], 'components': ['Asymmetric Gaussian']},\n",
    "\t'S-II,1':  {'wavelength': [6716.31], 'components': ['Asymmetric Gaussian']},\n",
    "\t'S-II,2':   {'wavelength':[6730.68], 'components': ['Asymmetric Gaussian']},\n",
    "\t'Ar-III': {'wavelength':[7135.67], 'components': ['Gaussian']},\n",
    "\t}\n"
   ],
   "id": "c675607158b448dc",
   "outputs": [],
   "execution_count": 33
  },
  {
   "metadata": {
    "ExecuteTime": {
     "end_time": "2024-10-18T05:27:28.038431Z",
     "start_time": "2024-10-18T05:27:27.947507Z"
    }
   },
   "cell_type": "code",
   "source": [
    "import os\n",
    "import re\n",
    "from astropy.io import fits\n",
    "import random\n",
    "\n",
    "pattern = r'(manga-\\d+-\\d+)'\n",
    "\n",
    "maindir = os.getcwd()\n",
    "inputdir = maindir + '/poster/'\n",
    "spectra = {}\n",
    "\n",
    "def random_color():\n",
    "    return \"#{:02x}{:02x}{:02x}\".format(random.randint(0, 255), random.randint(0, 255), random.randint(0, 255))\n",
    "IDS = []\n",
    "for file in os.listdir(inputdir):\n",
    "  if file.endswith(\".fits\"):\n",
    "    id = re.search(pattern, file).group(1)\n",
    "    IDS.append(id)\n",
    "    print('Opening file: ', file)\n",
    "    spec, redshift = open_manga_spectra(inputdir+file)\n",
    "    spectra[id] = {'data': spec, 'redshift': redshift}\n"
   ],
   "id": "dce0ed31f3df462d",
   "outputs": [
    {
     "name": "stdout",
     "output_type": "stream",
     "text": [
      "Opening file:  manga-8137-3702-1.0Reff-DAP.fits\n",
      "Opening file:  manga-8318-6102-1.0Reff-DAP.fits\n",
      "Opening file:  manga-8612-12704-1.0Reff-DAP.fits\n",
      "Opening file:  manga-12074-3701-1.0Reff-DAP.fits\n",
      "Opening file:  manga-9026-9101-1.0Reff-DAP.fits\n",
      "Opening file:  manga-11013-6101-1.0Reff-DAP.fits\n"
     ]
    }
   ],
   "execution_count": 34
  },
  {
   "cell_type": "code",
   "id": "bde3d69ea879d284",
   "metadata": {
    "colab": {
     "base_uri": "https://localhost:8080/"
    },
    "id": "bde3d69ea879d284",
    "outputId": "4df15765-e1db-4a6f-b382-dd565d596296",
    "ExecuteTime": {
     "end_time": "2024-10-18T05:27:29.260950Z",
     "start_time": "2024-10-18T05:27:29.259421Z"
    }
   },
   "source": "",
   "outputs": [],
   "execution_count": null
  },
  {
   "cell_type": "markdown",
   "id": "82f90fbc7a37da2a",
   "metadata": {
    "id": "82f90fbc7a37da2a",
    "ExecuteTime": {
     "end_time": "2024-10-10T14:51:13.531055Z",
     "start_time": "2024-10-10T14:51:13.521985Z"
    }
   },
   "source": [
    "Create the first estimations"
   ]
  },
  {
   "cell_type": "code",
   "id": "JZuVEmZIMLus",
   "metadata": {
    "colab": {
     "base_uri": "https://localhost:8080/"
    },
    "id": "JZuVEmZIMLus",
    "outputId": "c0b76526-0671-4602-8c34-930a46f6eccf",
    "ExecuteTime": {
     "end_time": "2024-10-18T05:29:43.784079Z",
     "start_time": "2024-10-18T05:27:30.799966Z"
    }
   },
   "source": [
    "## FITTING THE EMISSION LINES:\n",
    "## WARNING: THIS CELL IS THE HEAVIEST\n",
    "\n",
    "## Spectral index for the continuum:\n",
    "gamma0 = -0.01\n",
    "specrange = (4800, 6800)\n",
    "## Observed data stored in variables:\n",
    "\n",
    "\n",
    "def list_fitter(specdict, specrange, gamma0):\n",
    "    for key, item in specdict.items():\n",
    "        gal = key\n",
    "        spec0 = item['data']\n",
    "        try:\n",
    "            df0_1 = sps.init_setup(spec0, emission_line_models1, specrange, gamma0)\n",
    "            df0_2 = sps.init_setup(spec0, emission_line_models2, specrange, gamma0)\n",
    "            df0_3 = sps.init_setup(spec0, emission_line_models3, specrange, gamma0)\n",
    "            fit1 = spf.mcmc_fit(df0_1, spec0[:, 0], spec0[:, 1], spec0[:, 0], niter=1000)\n",
    "            fit2 = spf.mcmc_fit(df0_2, spec0[:, 0], spec0[:, 1], spec0[:, 0], niter=1000)\n",
    "            fit3 = spf.mcmc_fit(df0_3, spec0[:, 0], spec0[:, 1], spec0[:, 0], niter=5000)\n",
    "            item['single gaussian fit'] = fit1\n",
    "            item['double gaussian fit'] = fit2\n",
    "            item['asymmetric gaussian fit'] = fit3\n",
    "    \n",
    "        except Exception as e:\n",
    "            print(\"The following error occurred during setup. Skipping...\")\n",
    "            print(e)\n",
    "            item['single gaussian fit'] = None\n",
    "            item['double gaussian fit'] = None\n",
    "            item['asymmetric gaussian fit'] = None\n",
    "            \n",
    "    return specdict\n",
    "\n",
    "spectra = list_fitter(spectra, specrange, gamma0)"
   ],
   "outputs": [
    {
     "name": "stderr",
     "output_type": "stream",
     "text": [
      "100%|██████████| 1000/1000 [00:00<00:00, 2448.99it/s]\n"
     ]
    },
    {
     "name": "stdout",
     "output_type": "stream",
     "text": [
      "This list of lines groups ['O-III,1' 'O-III,2' 'H-β' 'N-I,1' 'N-I,2' 'He-I' 'O-I,1' 'O-I,2' 'N-II,1'\n",
      " 'N-II,2' 'H-α' 'S-II,1' 'S-II,2' 'Continuum']\n",
      "Successful! Convergence found.\n"
     ]
    },
    {
     "name": "stderr",
     "output_type": "stream",
     "text": [
      "100%|██████████| 1000/1000 [00:00<00:00, 1148.52it/s]\n"
     ]
    },
    {
     "name": "stdout",
     "output_type": "stream",
     "text": [
      "This list of lines groups ['O-III,1' 'O-III,2' 'H-β' 'N-I,1' 'N-I,2' 'He-I' 'O-I,1' 'O-I,2' 'N-II,1'\n",
      " 'N-II,2' 'H-α' 'S-II,1' 'S-II,2' 'Continuum']\n",
      "Successful! Convergence found.\n"
     ]
    },
    {
     "name": "stderr",
     "output_type": "stream",
     "text": [
      "100%|██████████| 5000/5000 [00:02<00:00, 2198.79it/s]\n"
     ]
    },
    {
     "name": "stdout",
     "output_type": "stream",
     "text": [
      "This list of lines groups ['O-III,1' 'O-III,2' 'H-β' 'N-I,1' 'N-I,2' 'He-I' 'O-I,1' 'O-I,2' 'N-II,1'\n",
      " 'N-II,2' 'H-α' 'S-II,1' 'S-II,2' 'Continuum']\n",
      "Successful! Convergence found.\n"
     ]
    },
    {
     "name": "stderr",
     "output_type": "stream",
     "text": [
      "100%|██████████| 1000/1000 [00:00<00:00, 2733.52it/s]\n"
     ]
    },
    {
     "name": "stdout",
     "output_type": "stream",
     "text": [
      "This list of lines groups ['O-III,1' 'O-III,2' 'H-β' 'N-I,1' 'N-I,2' 'He-I' 'O-I,1' 'O-I,2' 'N-II,1'\n",
      " 'N-II,2' 'H-α' 'S-II,1' 'S-II,2' 'Continuum']\n",
      "Successful! Convergence found.\n"
     ]
    },
    {
     "name": "stderr",
     "output_type": "stream",
     "text": [
      "100%|██████████| 1000/1000 [00:00<00:00, 2045.89it/s]\n"
     ]
    },
    {
     "name": "stdout",
     "output_type": "stream",
     "text": [
      "This list of lines groups ['O-III,1' 'O-III,2' 'H-β' 'N-I,1' 'N-I,2' 'He-I' 'O-I,1' 'O-I,2' 'N-II,1'\n",
      " 'N-II,2' 'H-α' 'S-II,1' 'S-II,2' 'Continuum']\n",
      "Successful! Convergence found.\n"
     ]
    },
    {
     "name": "stderr",
     "output_type": "stream",
     "text": [
      "100%|██████████| 5000/5000 [00:02<00:00, 2434.90it/s]\n"
     ]
    },
    {
     "name": "stdout",
     "output_type": "stream",
     "text": [
      "This list of lines groups ['O-III,1' 'O-III,2' 'H-β' 'N-I,1' 'N-I,2' 'He-I' 'O-I,1' 'O-I,2' 'N-II,1'\n",
      " 'N-II,2' 'H-α' 'S-II,1' 'S-II,2' 'Continuum']\n",
      "Successful! Convergence found.\n"
     ]
    },
    {
     "name": "stderr",
     "output_type": "stream",
     "text": [
      "100%|██████████| 1000/1000 [00:10<00:00, 96.74it/s] \n"
     ]
    },
    {
     "name": "stdout",
     "output_type": "stream",
     "text": [
      "This list of lines groups ['O-III,1' 'O-III,2' 'H-β' 'N-I,1' 'N-I,2' 'He-I' 'O-I,1' 'O-I,2' 'N-II,1'\n",
      " 'N-II,2' 'H-α' 'S-II,1' 'S-II,2' 'Continuum']\n",
      "Successful! Convergence found.\n"
     ]
    },
    {
     "name": "stderr",
     "output_type": "stream",
     "text": [
      "100%|██████████| 1000/1000 [00:00<00:00, 1156.40it/s]\n"
     ]
    },
    {
     "name": "stdout",
     "output_type": "stream",
     "text": [
      "This list of lines groups ['O-III,1' 'O-III,2' 'H-β' 'N-I,1' 'N-I,2' 'He-I' 'O-I,1' 'O-I,2' 'N-II,1'\n",
      " 'N-II,2' 'H-α' 'S-II,1' 'S-II,2' 'Continuum']\n",
      "Successful! Convergence found.\n"
     ]
    },
    {
     "name": "stderr",
     "output_type": "stream",
     "text": [
      "100%|██████████| 5000/5000 [01:41<00:00, 49.33it/s]\n"
     ]
    },
    {
     "name": "stdout",
     "output_type": "stream",
     "text": [
      "This list of lines groups ['O-III,1' 'O-III,2' 'H-β' 'N-I,1' 'N-I,2' 'He-I' 'O-I,1' 'O-I,2' 'N-II,1'\n",
      " 'N-II,2' 'H-α' 'S-II,1' 'S-II,2' 'Continuum']\n",
      "Successful! Convergence found.\n"
     ]
    },
    {
     "name": "stderr",
     "output_type": "stream",
     "text": [
      "100%|██████████| 1000/1000 [00:00<00:00, 2527.92it/s]\n"
     ]
    },
    {
     "name": "stdout",
     "output_type": "stream",
     "text": [
      "This list of lines groups ['O-III,1' 'O-III,2' 'H-β' 'N-I,1' 'N-I,2' 'He-I' 'O-I,1' 'O-I,2' 'N-II,1'\n",
      " 'N-II,2' 'H-α' 'S-II,1' 'S-II,2' 'Continuum']\n",
      "Successful! Convergence found.\n"
     ]
    },
    {
     "name": "stderr",
     "output_type": "stream",
     "text": [
      "100%|██████████| 1000/1000 [00:00<00:00, 1400.60it/s]\n"
     ]
    },
    {
     "name": "stdout",
     "output_type": "stream",
     "text": [
      "This list of lines groups ['O-III,1' 'O-III,2' 'H-β' 'N-I,1' 'N-I,2' 'He-I' 'O-I,1' 'O-I,2' 'N-II,1'\n",
      " 'N-II,2' 'H-α' 'S-II,1' 'S-II,2' 'Continuum']\n",
      "Successful! Convergence found.\n"
     ]
    },
    {
     "name": "stderr",
     "output_type": "stream",
     "text": [
      "100%|██████████| 5000/5000 [00:02<00:00, 2232.14it/s]\n"
     ]
    },
    {
     "name": "stdout",
     "output_type": "stream",
     "text": [
      "This list of lines groups ['O-III,1' 'O-III,2' 'H-β' 'N-I,1' 'N-I,2' 'He-I' 'O-I,1' 'O-I,2' 'N-II,1'\n",
      " 'N-II,2' 'H-α' 'S-II,1' 'S-II,2' 'Continuum']\n",
      "Successful! Convergence found.\n"
     ]
    },
    {
     "name": "stderr",
     "output_type": "stream",
     "text": [
      "100%|██████████| 1000/1000 [00:00<00:00, 2554.59it/s]\n"
     ]
    },
    {
     "name": "stdout",
     "output_type": "stream",
     "text": [
      "This list of lines groups ['O-III,1' 'O-III,2' 'H-β' 'N-I,1' 'N-I,2' 'He-I' 'O-I,1' 'N-II,1'\n",
      " 'N-II,2' 'H-α' 'S-II,1' 'S-II,2' 'Continuum']\n",
      "Successful! Convergence found.\n"
     ]
    },
    {
     "name": "stderr",
     "output_type": "stream",
     "text": [
      "100%|██████████| 1000/1000 [00:00<00:00, 1192.57it/s]\n"
     ]
    },
    {
     "name": "stdout",
     "output_type": "stream",
     "text": [
      "This list of lines groups ['O-III,1' 'O-III,2' 'H-β' 'N-I,1' 'N-I,2' 'He-I' 'O-I,1' 'N-II,1'\n",
      " 'N-II,2' 'H-α' 'S-II,1' 'S-II,2' 'Continuum']\n",
      "Successful! Convergence found.\n"
     ]
    },
    {
     "name": "stderr",
     "output_type": "stream",
     "text": [
      "100%|██████████| 5000/5000 [00:02<00:00, 2323.80it/s]\n"
     ]
    },
    {
     "name": "stdout",
     "output_type": "stream",
     "text": [
      "This list of lines groups ['O-III,1' 'O-III,2' 'H-β' 'N-I,1' 'N-I,2' 'He-I' 'O-I,1' 'N-II,1'\n",
      " 'N-II,2' 'H-α' 'S-II,1' 'S-II,2' 'Continuum']\n",
      "Successful! Convergence found.\n"
     ]
    },
    {
     "name": "stderr",
     "output_type": "stream",
     "text": [
      "100%|██████████| 1000/1000 [00:00<00:00, 2525.76it/s]\n"
     ]
    },
    {
     "name": "stdout",
     "output_type": "stream",
     "text": [
      "This list of lines groups ['O-III,1' 'O-III,2' 'H-β' 'N-I,1' 'N-I,2' 'He-I' 'O-I,1' 'O-I,2' 'N-II,1'\n",
      " 'N-II,2' 'H-α' 'S-II,1' 'S-II,2' 'Continuum']\n",
      "Successful! Convergence found.\n"
     ]
    },
    {
     "name": "stderr",
     "output_type": "stream",
     "text": [
      "100%|██████████| 1000/1000 [00:00<00:00, 1379.36it/s]\n"
     ]
    },
    {
     "name": "stdout",
     "output_type": "stream",
     "text": [
      "This list of lines groups ['O-III,1' 'O-III,2' 'H-β' 'N-I,1' 'N-I,2' 'He-I' 'O-I,1' 'O-I,2' 'N-II,1'\n",
      " 'N-II,2' 'H-α' 'S-II,1' 'S-II,2' 'Continuum']\n",
      "Successful! Convergence found.\n"
     ]
    },
    {
     "name": "stderr",
     "output_type": "stream",
     "text": [
      "100%|██████████| 5000/5000 [00:02<00:00, 2441.15it/s]\n"
     ]
    },
    {
     "name": "stdout",
     "output_type": "stream",
     "text": [
      "This list of lines groups ['O-III,1' 'O-III,2' 'H-β' 'N-I,1' 'N-I,2' 'He-I' 'O-I,1' 'O-I,2' 'N-II,1'\n",
      " 'N-II,2' 'H-α' 'S-II,1' 'S-II,2' 'Continuum']\n",
      "Successful! Convergence found.\n"
     ]
    }
   ],
   "execution_count": 35
  },
  {
   "metadata": {
    "ExecuteTime": {
     "end_time": "2024-10-18T05:29:46.408224Z",
     "start_time": "2024-10-18T05:29:46.396707Z"
    }
   },
   "cell_type": "code",
   "source": "IDS",
   "id": "3d84d31a9fad2042",
   "outputs": [
    {
     "data": {
      "text/plain": [
       "['manga-8137-3702',\n",
       " 'manga-8318-6102',\n",
       " 'manga-8612-12704',\n",
       " 'manga-12074-3701',\n",
       " 'manga-9026-9101',\n",
       " 'manga-11013-6101']"
      ]
     },
     "execution_count": 36,
     "metadata": {},
     "output_type": "execute_result"
    }
   ],
   "execution_count": 36
  },
  {
   "metadata": {
    "ExecuteTime": {
     "end_time": "2024-10-18T05:54:49.275078Z",
     "start_time": "2024-10-18T05:54:49.062949Z"
    }
   },
   "cell_type": "code",
   "source": [
    "# REVIEW AN SPECIFIC GALAXY FIT FROM THE SAMPLE:\n",
    "# Here review a specific galaxy from the sample:\n",
    "\n",
    "gal = spectra['manga-11013-6101']\n",
    "\n",
    "data = gal['data']\n",
    "single_gaussian = gal['single gaussian fit']\n",
    "double_gaussian = gal['double gaussian fit']\n",
    "asymm_gaussian = gal['asymmetric gaussian fit']\n",
    "\n",
    "x, y, dy = data[:, 0], data[:, 1], data[:, 2]\n",
    "\n",
    "# HERE MODIFY WHICH ONE TO VISUALIZE: &&&&&&&&&&&&&&&&&&\n",
    "fit_to_visualize = asymm_gaussian\n",
    "xzoom = (6500, 6800)\n",
    "yzoom = (0,250)\n",
    "\n",
    "dfparams = fit_to_visualize.model_parameters_df\n",
    "goodness = fit_to_visualize.goodness\n",
    "\n",
    "sps.spl_plot(x, y, dy, dfparams, x_zoom=xzoom, y_zoom=yzoom, goodness_marks=goodness)\n",
    "\n",
    "dfparams"
   ],
   "id": "5ae15327d75c4c7a",
   "outputs": [
    {
     "data": {
      "text/plain": [
       "    Line Name                Model  Component  \\\n",
       "0     O-III,1  Asymmetric Gaussian          1   \n",
       "1     O-III,2  Asymmetric Gaussian          1   \n",
       "2         H-β  Asymmetric Gaussian          1   \n",
       "3       N-I,1             Gaussian          1   \n",
       "4       N-I,2             Gaussian          1   \n",
       "5        He-I             Gaussian          1   \n",
       "6       O-I,1             Gaussian          1   \n",
       "7       O-I,2             Gaussian          1   \n",
       "8      N-II,1             Gaussian          1   \n",
       "9      N-II,2             Gaussian          1   \n",
       "10        H-α  Asymmetric Gaussian          1   \n",
       "11     S-II,1  Asymmetric Gaussian          1   \n",
       "12     S-II,2  Asymmetric Gaussian          1   \n",
       "13  Continuum            Continuum          0   \n",
       "\n",
       "                                           Parameters  \\\n",
       "0   [4959.768698062098, 90.63289053563594, 0.29885...   \n",
       "1   [5007.966736740024, 263.04740806516, 0.2999766...   \n",
       "2   [4862.519160718033, 43.033875727589574, 0.2985...   \n",
       "3   [5200.693545655033, 4.65608719670105, 2.666684...   \n",
       "4   [5200.694172115942, 4.656511039804126, 2.66744...   \n",
       "5   [5877.077074392542, 4.8476544596264395, 2.4811...   \n",
       "6   [6301.75189108856, 20.903351643536173, 2.59694...   \n",
       "7   [6365.919860166123, 6.608233528662256, 2.62710...   \n",
       "8   [6550.30319681077, 29.259829344921492, 2.64772...   \n",
       "9   [6585.08371512804, 86.63989584981064, 2.967950...   \n",
       "10  [6563.891184256582, 116.13008645617019, 0.3002...   \n",
       "11  [6718.3309328255955, 40.39005272307266, 0.2979...   \n",
       "12  [6732.266004242881, 37.26752812642027, 0.30095...   \n",
       "13  [0.004721216003390117, 6053.168610770545, -33....   \n",
       "\n",
       "                                     Parameter Errors  \n",
       "0   [0.0010062349197306883, 0.0009990367714663012,...  \n",
       "1   [0.0009466386458264943, 0.0011834537560137283,...  \n",
       "2   [0.0008345833920606287, 0.0010124939168660821,...  \n",
       "3   [0.0009496381665853933, 0.0009643835303076293,...  \n",
       "4   [0.000972756445835584, 0.001034730559354883, 0...  \n",
       "5   [0.0010241060138058095, 0.001022275665502178, ...  \n",
       "6   [0.001002486093835053, 0.0010124000412293926, ...  \n",
       "7   [0.001024381523227019, 0.0009389310833981179, ...  \n",
       "8   [0.00088427471593497, 0.000969413375296305, 0....  \n",
       "9   [0.0009505611810243079, 0.0009709475731461415,...  \n",
       "10  [0.0009678016753729435, 0.0010294513506064705,...  \n",
       "11  [0.0009508723203105732, 0.0009087574135605936,...  \n",
       "12  [0.0009346287078442641, 0.0010253693679232046,...  \n",
       "13                                    [0.0, 0.0, 0.0]  "
      ],
      "text/html": [
       "<div>\n",
       "<style scoped>\n",
       "    .dataframe tbody tr th:only-of-type {\n",
       "        vertical-align: middle;\n",
       "    }\n",
       "\n",
       "    .dataframe tbody tr th {\n",
       "        vertical-align: top;\n",
       "    }\n",
       "\n",
       "    .dataframe thead th {\n",
       "        text-align: right;\n",
       "    }\n",
       "</style>\n",
       "<table border=\"1\" class=\"dataframe\">\n",
       "  <thead>\n",
       "    <tr style=\"text-align: right;\">\n",
       "      <th></th>\n",
       "      <th>Line Name</th>\n",
       "      <th>Model</th>\n",
       "      <th>Component</th>\n",
       "      <th>Parameters</th>\n",
       "      <th>Parameter Errors</th>\n",
       "    </tr>\n",
       "  </thead>\n",
       "  <tbody>\n",
       "    <tr>\n",
       "      <th>0</th>\n",
       "      <td>O-III,1</td>\n",
       "      <td>Asymmetric Gaussian</td>\n",
       "      <td>1</td>\n",
       "      <td>[4959.768698062098, 90.63289053563594, 0.29885...</td>\n",
       "      <td>[0.0010062349197306883, 0.0009990367714663012,...</td>\n",
       "    </tr>\n",
       "    <tr>\n",
       "      <th>1</th>\n",
       "      <td>O-III,2</td>\n",
       "      <td>Asymmetric Gaussian</td>\n",
       "      <td>1</td>\n",
       "      <td>[5007.966736740024, 263.04740806516, 0.2999766...</td>\n",
       "      <td>[0.0009466386458264943, 0.0011834537560137283,...</td>\n",
       "    </tr>\n",
       "    <tr>\n",
       "      <th>2</th>\n",
       "      <td>H-β</td>\n",
       "      <td>Asymmetric Gaussian</td>\n",
       "      <td>1</td>\n",
       "      <td>[4862.519160718033, 43.033875727589574, 0.2985...</td>\n",
       "      <td>[0.0008345833920606287, 0.0010124939168660821,...</td>\n",
       "    </tr>\n",
       "    <tr>\n",
       "      <th>3</th>\n",
       "      <td>N-I,1</td>\n",
       "      <td>Gaussian</td>\n",
       "      <td>1</td>\n",
       "      <td>[5200.693545655033, 4.65608719670105, 2.666684...</td>\n",
       "      <td>[0.0009496381665853933, 0.0009643835303076293,...</td>\n",
       "    </tr>\n",
       "    <tr>\n",
       "      <th>4</th>\n",
       "      <td>N-I,2</td>\n",
       "      <td>Gaussian</td>\n",
       "      <td>1</td>\n",
       "      <td>[5200.694172115942, 4.656511039804126, 2.66744...</td>\n",
       "      <td>[0.000972756445835584, 0.001034730559354883, 0...</td>\n",
       "    </tr>\n",
       "    <tr>\n",
       "      <th>5</th>\n",
       "      <td>He-I</td>\n",
       "      <td>Gaussian</td>\n",
       "      <td>1</td>\n",
       "      <td>[5877.077074392542, 4.8476544596264395, 2.4811...</td>\n",
       "      <td>[0.0010241060138058095, 0.001022275665502178, ...</td>\n",
       "    </tr>\n",
       "    <tr>\n",
       "      <th>6</th>\n",
       "      <td>O-I,1</td>\n",
       "      <td>Gaussian</td>\n",
       "      <td>1</td>\n",
       "      <td>[6301.75189108856, 20.903351643536173, 2.59694...</td>\n",
       "      <td>[0.001002486093835053, 0.0010124000412293926, ...</td>\n",
       "    </tr>\n",
       "    <tr>\n",
       "      <th>7</th>\n",
       "      <td>O-I,2</td>\n",
       "      <td>Gaussian</td>\n",
       "      <td>1</td>\n",
       "      <td>[6365.919860166123, 6.608233528662256, 2.62710...</td>\n",
       "      <td>[0.001024381523227019, 0.0009389310833981179, ...</td>\n",
       "    </tr>\n",
       "    <tr>\n",
       "      <th>8</th>\n",
       "      <td>N-II,1</td>\n",
       "      <td>Gaussian</td>\n",
       "      <td>1</td>\n",
       "      <td>[6550.30319681077, 29.259829344921492, 2.64772...</td>\n",
       "      <td>[0.00088427471593497, 0.000969413375296305, 0....</td>\n",
       "    </tr>\n",
       "    <tr>\n",
       "      <th>9</th>\n",
       "      <td>N-II,2</td>\n",
       "      <td>Gaussian</td>\n",
       "      <td>1</td>\n",
       "      <td>[6585.08371512804, 86.63989584981064, 2.967950...</td>\n",
       "      <td>[0.0009505611810243079, 0.0009709475731461415,...</td>\n",
       "    </tr>\n",
       "    <tr>\n",
       "      <th>10</th>\n",
       "      <td>H-α</td>\n",
       "      <td>Asymmetric Gaussian</td>\n",
       "      <td>1</td>\n",
       "      <td>[6563.891184256582, 116.13008645617019, 0.3002...</td>\n",
       "      <td>[0.0009678016753729435, 0.0010294513506064705,...</td>\n",
       "    </tr>\n",
       "    <tr>\n",
       "      <th>11</th>\n",
       "      <td>S-II,1</td>\n",
       "      <td>Asymmetric Gaussian</td>\n",
       "      <td>1</td>\n",
       "      <td>[6718.3309328255955, 40.39005272307266, 0.2979...</td>\n",
       "      <td>[0.0009508723203105732, 0.0009087574135605936,...</td>\n",
       "    </tr>\n",
       "    <tr>\n",
       "      <th>12</th>\n",
       "      <td>S-II,2</td>\n",
       "      <td>Asymmetric Gaussian</td>\n",
       "      <td>1</td>\n",
       "      <td>[6732.266004242881, 37.26752812642027, 0.30095...</td>\n",
       "      <td>[0.0009346287078442641, 0.0010253693679232046,...</td>\n",
       "    </tr>\n",
       "    <tr>\n",
       "      <th>13</th>\n",
       "      <td>Continuum</td>\n",
       "      <td>Continuum</td>\n",
       "      <td>0</td>\n",
       "      <td>[0.004721216003390117, 6053.168610770545, -33....</td>\n",
       "      <td>[0.0, 0.0, 0.0]</td>\n",
       "    </tr>\n",
       "  </tbody>\n",
       "</table>\n",
       "</div>"
      ]
     },
     "execution_count": 94,
     "metadata": {},
     "output_type": "execute_result"
    },
    {
     "data": {
      "text/plain": [
       "<Figure size 800x500 with 2 Axes>"
      ],
      "image/png": "[encoded data removed]"
     },
     "metadata": {},
     "output_type": "display_data"
    }
   ],
   "execution_count": 94
  },
  {
   "metadata": {
    "ExecuteTime": {
     "end_time": "2024-10-18T05:54:54.371098Z",
     "start_time": "2024-10-18T05:54:54.361487Z"
    }
   },
   "cell_type": "code",
   "source": "goodness",
   "id": "d9eaeef9a92a7f40",
   "outputs": [
    {
     "data": {
      "text/plain": [
       "{'chi squared': 0.006258405442876465,\n",
       " 'reduced chi squared': 1.3861363107146103e-06,\n",
       " 'BIC': 418.56365817180915}"
      ]
     },
     "execution_count": 95,
     "metadata": {},
     "output_type": "execute_result"
    }
   ],
   "execution_count": 95
  },
  {
   "cell_type": "code",
   "id": "39f9b390d520c26c",
   "metadata": {
    "colab": {
     "base_uri": "https://localhost:8080/"
    },
    "id": "39f9b390d520c26c",
    "outputId": "829df014-f228-4143-e27f-bfa63771e59b",
    "ExecuteTime": {
     "end_time": "2024-10-18T05:55:19.122471Z",
     "start_time": "2024-10-18T05:55:19.103086Z"
    }
   },
   "source": [
    "# Selection of the best gaussian fit:\n",
    "# For this cell, what we want to do is to select the best gaussian fit between one and two \n",
    "# components. Then we will use THAT fit to compare with the asymmetric gaussian one.\n",
    "\n",
    "# Lets first store the goodness in a table:\n",
    "\n",
    "def goodness_table(specdict):\n",
    "    ID = []\n",
    "    chi1gauss, chi2gauss, chiasymgauss = [], [], []\n",
    "    BIC1gausass, BIC2gaussass, BICasymgauss = [], [], []\n",
    "    print(BICasymgauss)\n",
    "    for key, item in specdict.items():\n",
    "        ID.append(key)\n",
    "        good_1gauss = item['single gaussian fit'].goodness\n",
    "        good_2gauss = item['double gaussian fit'].goodness\n",
    "        good_asymgauss = item['asymmetric gaussian fit'].goodness\n",
    "        chi1gauss.append(good_1gauss['reduced chi squared'])\n",
    "        chi2gauss.append(good_2gauss['reduced chi squared'])\n",
    "        chiasymgauss.append(good_asymgauss['reduced chi squared'])\n",
    "        BIC1gausass.append(good_1gauss['BIC'])\n",
    "        BIC2gaussass.append(good_2gauss['BIC'])\n",
    "        BICasymgauss.append(good_asymgauss['BIC'])\n",
    "        \n",
    "    table = pd.DataFrame(list(zip(ID, chi1gauss, chi2gauss, chiasymgauss, BIC1gausass, BIC2gaussass, BICasymgauss)),\n",
    "                         columns=['ID', 'chi1gauss', 'chi2gauss', 'chiasymgauss', 'BIC1gausass', 'BIC2gaussass', 'BICasymgauss'])\n",
    "    return table\n",
    "        \n",
    "\n",
    "tab_goodness = goodness_table(spectra)"
   ],
   "outputs": [
    {
     "name": "stdout",
     "output_type": "stream",
     "text": [
      "[]\n"
     ]
    }
   ],
   "execution_count": 96
  },
  {
   "cell_type": "code",
   "id": "90c63ed0fea37153",
   "metadata": {
    "colab": {
     "base_uri": "https://localhost:8080/"
    },
    "id": "90c63ed0fea37153",
    "outputId": "50faa720-7a52-4e92-9cb6-effb3dbea949",
    "ExecuteTime": {
     "end_time": "2024-10-18T05:55:28.839929Z",
     "start_time": "2024-10-18T05:55:28.825063Z"
    }
   },
   "source": "tab_goodness",
   "outputs": [
    {
     "data": {
      "text/plain": [
       "                 ID     chi1gauss     chi2gauss  chiasymgauss  BIC1gausass  \\\n",
       "0   manga-8137-3702  1.783162e-07  1.790396e-07  2.632013e-07   355.703236   \n",
       "1   manga-8318-6102  3.328705e-07  3.339224e-07  1.341063e-06   357.282738   \n",
       "2  manga-8612-12704  2.793776e-04  2.804996e-04  2.790455e-04  3209.041947   \n",
       "3  manga-12074-3701  1.036672e-07  1.040806e-07  1.752403e-07   354.940345   \n",
       "4   manga-9026-9101  8.317474e-05  8.344781e-05  9.134706e-05  1179.754716   \n",
       "5  manga-11013-6101  8.497182e-07  8.531359e-07  1.386136e-06   362.564777   \n",
       "\n",
       "   BIC2gaussass  BICasymgauss  \n",
       "0    507.359328    407.118017  \n",
       "1    508.929609    418.104244  \n",
       "2   3349.390652   3248.638062  \n",
       "3    506.599356    406.221465  \n",
       "4   1327.430579   1311.460980  \n",
       "5    514.193657    418.563658  "
      ],
      "text/html": [
       "<div>\n",
       "<style scoped>\n",
       "    .dataframe tbody tr th:only-of-type {\n",
       "        vertical-align: middle;\n",
       "    }\n",
       "\n",
       "    .dataframe tbody tr th {\n",
       "        vertical-align: top;\n",
       "    }\n",
       "\n",
       "    .dataframe thead th {\n",
       "        text-align: right;\n",
       "    }\n",
       "</style>\n",
       "<table border=\"1\" class=\"dataframe\">\n",
       "  <thead>\n",
       "    <tr style=\"text-align: right;\">\n",
       "      <th></th>\n",
       "      <th>ID</th>\n",
       "      <th>chi1gauss</th>\n",
       "      <th>chi2gauss</th>\n",
       "      <th>chiasymgauss</th>\n",
       "      <th>BIC1gausass</th>\n",
       "      <th>BIC2gaussass</th>\n",
       "      <th>BICasymgauss</th>\n",
       "    </tr>\n",
       "  </thead>\n",
       "  <tbody>\n",
       "    <tr>\n",
       "      <th>0</th>\n",
       "      <td>manga-8137-3702</td>\n",
       "      <td>1.783162e-07</td>\n",
       "      <td>1.790396e-07</td>\n",
       "      <td>2.632013e-07</td>\n",
       "      <td>355.703236</td>\n",
       "      <td>507.359328</td>\n",
       "      <td>407.118017</td>\n",
       "    </tr>\n",
       "    <tr>\n",
       "      <th>1</th>\n",
       "      <td>manga-8318-6102</td>\n",
       "      <td>3.328705e-07</td>\n",
       "      <td>3.339224e-07</td>\n",
       "      <td>1.341063e-06</td>\n",
       "      <td>357.282738</td>\n",
       "      <td>508.929609</td>\n",
       "      <td>418.104244</td>\n",
       "    </tr>\n",
       "    <tr>\n",
       "      <th>2</th>\n",
       "      <td>manga-8612-12704</td>\n",
       "      <td>2.793776e-04</td>\n",
       "      <td>2.804996e-04</td>\n",
       "      <td>2.790455e-04</td>\n",
       "      <td>3209.041947</td>\n",
       "      <td>3349.390652</td>\n",
       "      <td>3248.638062</td>\n",
       "    </tr>\n",
       "    <tr>\n",
       "      <th>3</th>\n",
       "      <td>manga-12074-3701</td>\n",
       "      <td>1.036672e-07</td>\n",
       "      <td>1.040806e-07</td>\n",
       "      <td>1.752403e-07</td>\n",
       "      <td>354.940345</td>\n",
       "      <td>506.599356</td>\n",
       "      <td>406.221465</td>\n",
       "    </tr>\n",
       "    <tr>\n",
       "      <th>4</th>\n",
       "      <td>manga-9026-9101</td>\n",
       "      <td>8.317474e-05</td>\n",
       "      <td>8.344781e-05</td>\n",
       "      <td>9.134706e-05</td>\n",
       "      <td>1179.754716</td>\n",
       "      <td>1327.430579</td>\n",
       "      <td>1311.460980</td>\n",
       "    </tr>\n",
       "    <tr>\n",
       "      <th>5</th>\n",
       "      <td>manga-11013-6101</td>\n",
       "      <td>8.497182e-07</td>\n",
       "      <td>8.531359e-07</td>\n",
       "      <td>1.386136e-06</td>\n",
       "      <td>362.564777</td>\n",
       "      <td>514.193657</td>\n",
       "      <td>418.563658</td>\n",
       "    </tr>\n",
       "  </tbody>\n",
       "</table>\n",
       "</div>"
      ]
     },
     "execution_count": 97,
     "metadata": {},
     "output_type": "execute_result"
    }
   ],
   "execution_count": 97
  },
  {
   "metadata": {
    "ExecuteTime": {
     "end_time": "2024-10-18T05:58:02.214953Z",
     "start_time": "2024-10-18T05:58:02.076681Z"
    }
   },
   "cell_type": "code",
   "source": [
    "# Lets plot the goodness parameter space:\n",
    "\n",
    "def plot_goodness(table, comparison='double gaussian fit'):\n",
    "    x1 = np.log10(table['chi1gauss'])\n",
    "    if comparison == 'double gaussian fit':\n",
    "        dif_bic = np.log10(table['BIC2gaussass'] - table['BIC1gausass'])\n",
    "        x2 = np.log10(table['chi2gauss'])\n",
    "    elif comparison == 'asymmetric gaussian fit':\n",
    "        dif_bic = np.log10(table['BICasymgauss'] - table['BIC1gausass'])\n",
    "        x2 = np.log10(table['chiasymgauss'])\n",
    "        \n",
    "    fig, (ax1, ax2) = plt.subplots(1, 2, sharey=True, figsize=(10, 5))\n",
    "\n",
    "    # First subplot\n",
    "    ax1.scatter(x1, dif_bic, color='blue', marker='o')\n",
    "    ax1.set_xlabel(r'log $\\chi^2$')\n",
    "    ax1.set_ylabel('Difference in BIC')\n",
    "    #ax1.set_yscale('log')\n",
    "    #ax1.set_xscale('log')\n",
    "\n",
    "    ax2.scatter(x2, dif_bic, color='red', marker='o')\n",
    "    ax2.set_xlabel(r'log $\\chi^2$')\n",
    "    #ax2.set_yscale('log')\n",
    "    #ax2.set_xscale('log')\n",
    "\n",
    "    # Display the plot\n",
    "    plt.tight_layout()\n",
    "    plt.show()\n",
    "\n",
    "\n",
    "plot_goodness(tab_goodness, comparison='asymmetric gaussian fit')"
   ],
   "id": "9c330fc9595dde97",
   "outputs": [
    {
     "data": {
      "text/plain": [
       "<Figure size 1000x500 with 2 Axes>"
      ],
      "image/png": "[encoded data removed]"
     },
     "metadata": {},
     "output_type": "display_data"
    }
   ],
   "execution_count": 99
  },
  {
   "metadata": {
    "ExecuteTime": {
     "end_time": "2024-10-18T05:30:23.887994Z",
     "start_time": "2024-10-18T05:30:23.884633Z"
    }
   },
   "cell_type": "code",
   "source": "spectra['manga-8137-3702']['double gaussian fit'].goodness",
   "id": "2fe97b6c4d339854",
   "outputs": [
    {
     "data": {
      "text/plain": [
       "{'chi squared': 0.0008062151106346558,\n",
       " 'reduced chi squared': 1.790395537718534e-07,\n",
       " 'BIC': 507.35932817723796}"
      ]
     },
     "execution_count": 43,
     "metadata": {},
     "output_type": "execute_result"
    }
   ],
   "execution_count": 43
  },
  {
   "metadata": {
    "ExecuteTime": {
     "end_time": "2024-10-18T05:58:15.627692Z",
     "start_time": "2024-10-18T05:58:15.619479Z"
    }
   },
   "cell_type": "code",
   "source": [
    "# We have to discuss further the selection of the best gaussian fit. Chi squared and BIC are \n",
    "# essentially not a good way to compare in this small sample. By now I am just picking the 2 \n",
    "# component fits so we can compare multi-component against asymmetric gaussian.\n",
    "\n",
    "for id, gal in spectra.items():\n",
    "    gal['best gaussian fit'] = gal['double gaussian fit']"
   ],
   "id": "5dd5bc078f709cba",
   "outputs": [],
   "execution_count": 100
  },
  {
   "metadata": {
    "ExecuteTime": {
     "end_time": "2024-10-18T05:58:39.008046Z",
     "start_time": "2024-10-18T05:58:38.981630Z"
    }
   },
   "cell_type": "code",
   "source": [
    "# VELOCITY TRANSFORMATIONS AND FLUX FRACTION VELOCITY CALCULATION ºººººººººººººººººººººººººººº\n",
    "# EQUIVALENT WIDTH AND VELOCITY PROPERTIES CALCULATION\n",
    "# A AND K PARAMETER CALCULATION\n",
    "\n",
    "import spl_models as spm\n",
    "from scipy.integrate import quad, simps\n",
    "from scipy.optimize import fsolve\n",
    "\n",
    "# Value for velocity of light:\n",
    "c = 299792.458  # Speed of light in km/s (vacuum)\n",
    "\n",
    "def vel_correct(l0, l):\n",
    "    '''\n",
    "    Transform wavelength to units of velocity (km/s) given a reference wavelength l0 (in case of a single gaussian-fitted-line analysis, it is the centroid).\n",
    "    '''\n",
    "    vel = c*((l-l0)/l0)\n",
    "    return vel\n",
    "\n",
    "def vel_correct_sigma(sigma, l0):\n",
    "    '''\n",
    "    Transform sigma (D(lambda)) to velocity units\n",
    "    '''\n",
    "    vel = c*(sigma/l0)\n",
    "    return vel\n",
    "\n",
    "def mean_loc(dfline):\n",
    "    '''\n",
    "    Calculate the mean centroid of multicomponent emission line\n",
    "    '''\n",
    "    LOC, A, SD = [], [], []\n",
    "    for index, row in dfline.iterrows():\n",
    "        line_params = row['Parameters']\n",
    "        model = row['Model']\n",
    "        LOC.append(line_params[0])\n",
    "        A.append(line_params[1])\n",
    "        if model == 'Assymetric Gaussian':\n",
    "            SD.append(line_params[3])\n",
    "        else:\n",
    "            SD.append(line_params[2])\n",
    "            \n",
    "    LOC = np.array(LOC)\n",
    "    A = np.array(A)\n",
    "    SD = np.array(SD)\n",
    "    \n",
    "    loc_c = np.sum(LOC*A*SD)/np.sum(A*SD)\n",
    "    return loc_c\n",
    "\n",
    "def line_function(x, dfline):\n",
    "    '''\n",
    "    Gives the analytical form for the profile of a given line, giving as input the line \n",
    "    sub-dataframe \n",
    "    '''\n",
    "    def gline(x, dfline):\n",
    "        result = 0\n",
    "        for index, row in dfline.iterrows():\n",
    "            line_params = row['Parameters']\n",
    "            model = row['Model']\n",
    "            if model == 'Gaussian':\n",
    "                result += spm.gauss(x, *line_params)\n",
    "            elif model == 'Lorentzian':\n",
    "                result += spm.lorentzian(x, *line_params)\n",
    "            elif model == 'Voigt':\n",
    "                result += spm.voigt(x, *line_params)\n",
    "            elif model == 'Asymmetric Gaussian':\n",
    "                result += spm.asym_gauss(x, *line_params)\n",
    "        return result\n",
    "    return gline\n",
    "\n",
    "def intflux(x, dfline, xmin):\n",
    "    \n",
    "    '''\n",
    "    Calculate the integrated flux of a given line\n",
    "    :param x: the upper limit for the integral calculation. The lower limit is -np.inf\n",
    "    :param dfline: the sub-dataframe containing the parameters of the line. This is individually \n",
    "    per line since the slicing of the dataframe per each line already occurs in the methods that \n",
    "    use this function\n",
    "    :return: The calculated area under the emission profile which corresponds to the flux of the \n",
    "    line (what we usually call flux is actually observed intensity, not flux)\n",
    "    '''\n",
    "    gline = line_function(x, dfline)\n",
    "    flux, error = quad(gline, xmin, x, args=dfline)\n",
    "    return flux\n",
    "\n",
    "def V_flux(dfline, r, LOC, xmax, xmin):\n",
    "    '''\n",
    "    Function to solve for flux fraction velocity of a given fitted line.\n",
    "    The radial velocity corresponds to the line-of-sight component of the velocity\n",
    "    # vector of the object. In this case, it is represented by the median velocity of the line, i. e.; the value that bisects the total integrated flux of the line.\n",
    "    '''\n",
    "    def eq_int_vel(x):\n",
    "        F = intflux(xmax, dfline, xmin)\n",
    "        return intflux(x, dfline, xmin) - r*F\n",
    "\n",
    "    sol = fsolve(eq_int_vel, LOC)\n",
    "    vel_rad = vel_correct(LOC, sol)\n",
    "\n",
    "    return vel_rad\n",
    "\n",
    "def calculate_line_properties(df, specrange):\n",
    "\n",
    "    xmin = specrange[0]\n",
    "    xmax = specrange[1]\n",
    "    \n",
    "    results = []\n",
    "    param_start = 0\n",
    "    x_mock = np.linspace(specrange[0], specrange[1], 10000)\n",
    "    lines = df['Line Name'].unique()\n",
    "    linelist = list(lines)\n",
    "    \n",
    "    for i, line in enumerate(linelist):\n",
    "        \n",
    "        dfline = df[df['Line Name'] == line]\n",
    "        # print('Adequate line function CHECK ... (prior intflux)')\n",
    "        # print('Here line', line)\n",
    "        line_profile = np.zeros_like(x_mock)\n",
    "        for index, row in dfline.iterrows():\n",
    "            line_params = row['Parameters']\n",
    "            Ncomp = row['Component']\n",
    "            model = row['Model']\n",
    "            \n",
    "            \n",
    "            if model == 'Gaussian':\n",
    "                line_profile += spm.gauss(x_mock, *line_params)\n",
    "            elif model == 'Lorentzian':\n",
    "                line_profile += spm.lorentzian(x_mock, *line_params)\n",
    "            elif model == 'Voigt':\n",
    "                line_profile += spm.voigt(x_mock, *line_params)\n",
    "            elif model == 'Asymmetric Gaussian':\n",
    "                line_profile += spm.asym_gauss(x_mock, *line_params)\n",
    "                \n",
    "        flux = intflux(xmax, dfline, xmin)\n",
    "        max_amplitude = np.max(line_profile)\n",
    "        #print('This max amplitude', max_amplitude)\n",
    "        #print('This flux', flux)\n",
    "        half_max = max_amplitude / 2.0\n",
    "        indexes = np.where(line_profile >= half_max)[0]\n",
    "        fwhm = x_mock[indexes[-1]] - x_mock[indexes[0]]\n",
    "        #print('This fwhm', fwhm)\n",
    "        # Calculate Equivalent Width (EW)\n",
    "        # EW = Flux / (peak amplitude)\n",
    "        ew = flux / max_amplitude\n",
    "        # Calculate the mean centroid:\n",
    "        loc_c = mean_loc(dfline)\n",
    "        #print('This loc c', loc_c)\n",
    "        \n",
    "        # Calculate radial velocity, W80, W90, A, and K:\n",
    "        v_r = V_flux(dfline, 0.5, loc_c, xmax, xmin)[0] # radial velocity\n",
    "        v_90 = V_flux(dfline, 0.9, loc_c, xmax, xmin)[0]\n",
    "        v_10 = V_flux(dfline, 0.1, loc_c, xmax, xmin)[0]\n",
    "        v_95 = V_flux(dfline, 0.95, loc_c, xmax, xmin)[0]\n",
    "        v_05 = V_flux(dfline, 0.05, loc_c, xmax, xmin)[0]\n",
    "        \n",
    "        # Velocity widths:\n",
    "        W80, W90 = v_90 - v_10, v_95 - v_05\n",
    "        A = ((v_90 - v_r) - (v_r - v_10)) / W80\n",
    "        K = W90 / (1.397 * fwhm)\n",
    "        \n",
    "        results.append({\n",
    "            'Line Name': line,\n",
    "            'Mean Loc': loc_c,\n",
    "            'Flux': flux,\n",
    "            'FWHM (Angstrom)': fwhm,\n",
    "            'Equivalent Width (Angstrom)': ew,\n",
    "            'V_med (km/s)': v_r,\n",
    "            'W80 (km/s)': W80,\n",
    "            'A': A,\n",
    "            'K': K\n",
    "        })\n",
    "        \n",
    "    # Convert the list of dictionaries into a Pandas DataFrame\n",
    "    properties_df = pd.DataFrame(results)\n",
    "    \n",
    "    return properties_df"
   ],
   "id": "1f696eaa64351870",
   "outputs": [],
   "execution_count": 101
  },
  {
   "metadata": {
    "ExecuteTime": {
     "end_time": "2024-10-18T05:30:27.261035Z",
     "start_time": "2024-10-18T05:30:27.255254Z"
    }
   },
   "cell_type": "code",
   "source": "",
   "id": "f94996bb7215bbb1",
   "outputs": [],
   "execution_count": null
  },
  {
   "metadata": {
    "ExecuteTime": {
     "end_time": "2024-10-20T23:49:19.358465Z",
     "start_time": "2024-10-20T23:49:19.291863Z"
    }
   },
   "cell_type": "code",
   "source": [
    "# Some methods to produce the necessary tables for the final data analysis:\n",
    "\n",
    "def properties_perline_sample(superdict, line, fittabkey, proptabkey):\n",
    "    # Identifiers:\n",
    "    ID, Z = [], []\n",
    "    # Derived properties:\n",
    "    loc_c, flux, fwhm, ew, v_r, W80, A, K = [], [], [], [], [], [], [], []\n",
    "    \n",
    "    # Fit parameters:\n",
    "    sigmas, gammas, asym, w_width = [], [], [], []\n",
    "    \n",
    "    for key, item in superdict.items():\n",
    "        fit_tab = item[fittabkey].model_parameters_df\n",
    "        prop_tab = item[proptabkey]\n",
    "        \n",
    "        ID.append(key)\n",
    "        Z.append(item['redshift'])\n",
    "        \n",
    "        # First extract the properties:\n",
    "        prop_tab = prop_tab[prop_tab['Line Name'] == line]\n",
    "\n",
    "        \n",
    "         # Append the scalar value of the properties:\n",
    "        flux.append(prop_tab['Flux'].values[0] if not prop_tab.empty else np.nan)\n",
    "        loc_c.append(prop_tab['Mean Loc'].values[0] if not prop_tab.empty else np.nan)\n",
    "        fwhm.append(prop_tab['FWHM (Angstrom)'].values[0] if not prop_tab.empty else np.nan)\n",
    "        ew.append(prop_tab['Equivalent Width (Angstrom)'].values[0] if not prop_tab.empty else np.nan)\n",
    "        v_r.append(prop_tab['V_med (km/s)'].values[0] if not prop_tab.empty else np.nan)\n",
    "        W80.append(prop_tab['W80 (km/s)'].values[0] if not prop_tab.empty else np.nan)\n",
    "        A.append(prop_tab['A'].values[0] if not prop_tab.empty else np.nan)\n",
    "        K.append(prop_tab['K'].values[0] if not prop_tab.empty else np.nan)\n",
    "        \n",
    "        # Then extract parameters from the fit:\n",
    "        fit_tab = fit_tab[fit_tab['Line Name'] == line]\n",
    "        sigmas_i, gammas_i, asym_i, w_width_i = [], [], [], []\n",
    "        \n",
    "        for index, row in fit_tab.iterrows():\n",
    "            if row['Model'] == 'Gaussian':\n",
    "                sigmas_i.append(row['Parameters'][2])\n",
    "            elif row['Model'] == 'Lorentzian':\n",
    "                gammas_i.append(row['Parameters'][2])\n",
    "            elif row['Model'] == 'Asymmetric Gaussian':\n",
    "                asym_i.append(row['Parameters'][2])\n",
    "                w_width_i.append(row['Parameters'][3])\n",
    "            elif row['Model'] == 'Voigt':\n",
    "                sigmas_i.append(row['Parameters'][2])\n",
    "                gammas_i.append(row['Parameters'][3])\n",
    "        \n",
    "        # Handle condition for non-empty lists correctly:\n",
    "        gammas.append(np.max(gammas_i) if len(gammas_i) > 0 else np.nan)\n",
    "        sigmas.append(np.max(sigmas_i) if len(sigmas_i) > 0 else np.nan)\n",
    "        w_width.append(np.max(w_width_i) if len(w_width_i) > 0 else np.nan)\n",
    "        asym.append(np.max(asym_i) if len(asym_i) > 0 else np.nan)\n",
    "    \n",
    "            \n",
    "    # After the loop over all galaxies store the table:\n",
    "    linetab = pd.DataFrame({\n",
    "        'ID': ID,\n",
    "        'redshift': Z,\n",
    "        'Flux': flux,\n",
    "        'Mean Loc': loc_c,\n",
    "        'FWHM (Angstrom)': fwhm,\n",
    "        'Equivalent Width (Angstrom)': ew,\n",
    "        'V_med (km/s)': v_r,\n",
    "        'W80 (km/s)': W80,\n",
    "        'A': A,\n",
    "        'K': K,\n",
    "        'Max Sigma': sigmas,\n",
    "        'Max Gamma': gammas,\n",
    "        'a_Asymmetry': asym,\n",
    "        'W_width': w_width\n",
    "    })\n",
    "    \n",
    "    return linetab\n",
    "    \n",
    "def sample_line_properties(spectradict, specrange):\n",
    "    for id, gal in spectradict.items():\n",
    "        print(id)\n",
    "        df1 = gal['best gaussian fit'].model_parameters_df\n",
    "        df2 = gal['asymmetric gaussian fit'].model_parameters_df\n",
    "        gal['lines properties gaussian'] = calculate_line_properties(df1, specrange)\n",
    "        gal['lines properties asymmetric gaussian'] = calculate_line_properties(df2, specrange)\n",
    "        \n",
    "    return spectradict"
   ],
   "id": "19462cbbf07fc5e0",
   "outputs": [],
   "execution_count": 102
  },
  {
   "metadata": {
    "ExecuteTime": {
     "end_time": "2024-10-20T23:52:38.438564Z",
     "start_time": "2024-10-20T23:49:29.365593Z"
    }
   },
   "cell_type": "code",
   "source": [
    "# Lets compute the line properties for both types of fit:\n",
    "spectra = sample_line_properties(spectra, specrange)"
   ],
   "id": "dee70166d149c379",
   "outputs": [
    {
     "name": "stdout",
     "output_type": "stream",
     "text": [
      "manga-8137-3702\n",
      "manga-8318-6102\n",
      "manga-8612-12704\n",
      "manga-12074-3701\n",
      "manga-9026-9101\n",
      "manga-11013-6101\n"
     ]
    }
   ],
   "execution_count": 103
  },
  {
   "metadata": {
    "ExecuteTime": {
     "end_time": "2024-10-20T23:53:23.244382Z",
     "start_time": "2024-10-20T23:53:23.227908Z"
    }
   },
   "cell_type": "code",
   "source": [
    "del OIIIp_gauss\n",
    "del Hap_gauss\n",
    "del OIIIp_asymmetric\n",
    "del Hap_asymmetric"
   ],
   "id": "4cd6cf90d8ac5f33",
   "outputs": [],
   "execution_count": 104
  },
  {
   "metadata": {
    "ExecuteTime": {
     "end_time": "2024-10-20T23:53:56.089303Z",
     "start_time": "2024-10-20T23:53:56.047757Z"
    }
   },
   "cell_type": "code",
   "source": [
    "# Lets extract the properties for Ha and OIII from the different for your report.\n",
    "\n",
    "# OIII line, gaussian fit\n",
    "OIIIp_gauss = properties_perline_sample(spectra, 'O-III,2', 'best gaussian fit', 'lines properties gaussian')\n",
    "# H alpha line, gaussian fit\n",
    "Hap_gauss = properties_perline_sample(spectra, 'H-α', 'best gaussian fit', 'lines properties gaussian')\n",
    "\n",
    "# OIII line, asymmetric gaussian fit\n",
    "OIIIp_asymmetric = properties_perline_sample(spectra, 'O-III,2', 'asymmetric gaussian fit', 'lines asymmetric gaussian')\n",
    "\n",
    "# H alpha line, asymmetric gaussian fit\n",
    "Hap_asymmetric = properties_perline_sample(spectra, 'H-α', 'asymmetric gaussian fit', 'lines properties asymmetric gaussian')"
   ],
   "id": "7af7be5876922c8c",
   "outputs": [],
   "execution_count": 106
  },
  {
   "metadata": {
    "ExecuteTime": {
     "end_time": "2024-10-20T23:57:55.025469Z",
     "start_time": "2024-10-20T23:57:54.989839Z"
    }
   },
   "cell_type": "code",
   "source": [
    "# Lets add the luminosities to both tables:\n",
    "from astropy.cosmology import WMAP9 as cosmo\n",
    "\n",
    "def luminosity_distance(Z):\n",
    "    '''\n",
    "    Returns the Luminosity distance given a redshift.\n",
    "    '''\n",
    "    DL = cosmo.luminosity_distance(Z)\n",
    "    #DL = np.array([DL[i].value for i in range(len(Z))])\n",
    "    DL = np.array(DL*3.086e+24) #Mpc to cm\n",
    "    return DL\n",
    "\n",
    "def Luminosity(Flux, DL):\n",
    "    '''\n",
    "    Returns the Luminosity given the flux and the luminosity distance\n",
    "    '''\n",
    "    Lux = (4*np.pi*(DL**2)*Flux*1e-17)\n",
    "    return Lux\n",
    "\n",
    "# Adding the luminosities to all tables here:\n",
    "\n",
    "# Luminosity distance calculation:\n",
    "OIIIp_gauss['Distance (cm)'] = luminosity_distance(OIIIp_gauss['redshift'])\n",
    "Hap_gauss['Distance (cm)'] = luminosity_distance(Hap_gauss['redshift'])\n",
    "OIIIp_asymmetric['Distance (cm)'] = luminosity_distance(OIIIp_asymmetric['redshift'])\n",
    "Hap_asymmetric['Distance (cm)'] = luminosity_distance(Hap_asymmetric['redshift'])\n",
    "\n",
    "\n",
    "# Luminosity:\n",
    "OIIIp_gauss['Luminosity'] = Luminosity(OIIIp_gauss['Flux'], OIIIp_gauss['Distance (cm)'])\n",
    "Hap_gauss['Luminosity'] = Luminosity(Hap_gauss['Flux'], Hap_gauss['Distance (cm)'])\n",
    "OIIIp_asymmetric['Luminosity'] = Luminosity(OIIIp_asymmetric['Flux'], OIIIp_asymmetric['Distance (cm)'])\n",
    "Hap_asymmetric['Luminosity'] = Luminosity(Hap_asymmetric['Flux'], Hap_asymmetric['Distance (cm)'])"
   ],
   "id": "d7d1db86ca21c202",
   "outputs": [],
   "execution_count": 117
  },
  {
   "metadata": {
    "ExecuteTime": {
     "end_time": "2024-10-20T23:57:57.615889Z",
     "start_time": "2024-10-20T23:57:57.584570Z"
    }
   },
   "cell_type": "code",
   "source": [
    "DL = cosmo.luminosity_distance(1)\n",
    "np.array(DL)"
   ],
   "id": "bb487b59e403ee71",
   "outputs": [
    {
     "data": {
      "text/plain": [
       "array(6726.14124214)"
      ]
     },
     "execution_count": 118,
     "metadata": {},
     "output_type": "execute_result"
    }
   ],
   "execution_count": 118
  },
  {
   "metadata": {
    "ExecuteTime": {
     "end_time": "2024-10-20T23:57:59.120544Z",
     "start_time": "2024-10-20T23:57:59.100351Z"
    }
   },
   "cell_type": "code",
   "source": "luminosity_distance(OIIIp_gauss['redshift'])",
   "id": "7f0abac31a477c3a",
   "outputs": [
    {
     "data": {
      "text/plain": [
       "array([9.38416579e+26, 6.43618583e+26, 1.84197737e+27, 1.72947900e+27,\n",
       "       4.65539374e+26, 4.66349544e+26])"
      ]
     },
     "execution_count": 119,
     "metadata": {},
     "output_type": "execute_result"
    }
   ],
   "execution_count": 119
  },
  {
   "metadata": {
    "ExecuteTime": {
     "end_time": "2024-10-20T23:58:01.313321Z",
     "start_time": "2024-10-20T23:58:01.285375Z"
    }
   },
   "cell_type": "code",
   "source": "Luminosity(OIIIp_gauss['Flux'], OIIIp_gauss['Distance (cm)'])",
   "id": "8a23400c740b06af",
   "outputs": [
    {
     "data": {
      "text/plain": [
       "0    6.190318e+40\n",
       "1    7.852329e+40\n",
       "2    8.937774e+41\n",
       "3    2.668565e+41\n",
       "4    5.168830e+41\n",
       "5    3.962767e+40\n",
       "dtype: float64"
      ]
     },
     "execution_count": 120,
     "metadata": {},
     "output_type": "execute_result"
    }
   ],
   "execution_count": 120
  },
  {
   "metadata": {
    "ExecuteTime": {
     "end_time": "2024-10-21T00:50:39.831558Z",
     "start_time": "2024-10-21T00:50:39.814772Z"
    }
   },
   "cell_type": "code",
   "source": [
    "# Review any of the tables here:\n",
    "\n",
    "OIIIp_gauss\n",
    "# Hap_gauss\n",
    "#Hap_asymmetric"
   ],
   "id": "3e267107c8dd1ea1",
   "outputs": [
    {
     "data": {
      "text/plain": [
       "                 ID  redshift          Flux     Mean Loc  FWHM (Angstrom)  \\\n",
       "0   manga-8137-3702  0.066881    559.386185  5007.073649          6.00060   \n",
       "1   manga-8318-6102  0.046550   1508.451836  5008.870713          4.40044   \n",
       "2  manga-8612-12704  0.126069   2096.287963  5008.816585          8.40084   \n",
       "3  manga-12074-3701  0.118928    709.965746  5009.539582         11.00110   \n",
       "4   manga-9026-9101  0.033985  18978.834474  5005.939636          8.60086   \n",
       "5  manga-11013-6101  0.034043   1449.991851  5007.966036          5.00050   \n",
       "\n",
       "   Equivalent Width (Angstrom)  V_med (km/s)  W80 (km/s)             A  \\\n",
       "0                     6.508608 -1.521459e-05  398.392101  1.254443e-07   \n",
       "1                     4.833727 -2.695203e-06  295.729115  2.993631e-08   \n",
       "2                     8.956474 -8.440293e-07  548.148857  5.057891e-09   \n",
       "3                    11.856189  2.506087e-06  725.403856 -1.134790e-08   \n",
       "4                     9.366580  2.891120e-07  573.443059 -1.656310e-09   \n",
       "5                     5.514007 -2.040442e-06  337.417929  1.986272e-08   \n",
       "\n",
       "           K  Max Sigma  Max Gamma  a_Asymmetry  W_width  Distance (cm)  \\\n",
       "0  60.997332   2.597031        NaN          NaN      NaN   9.384166e+26   \n",
       "1  61.743713   1.927892        NaN          NaN      NaN   6.436186e+26   \n",
       "2  59.947430   3.573880        NaN          NaN      NaN   1.841977e+27   \n",
       "3  60.581289   4.729680        NaN          NaN      NaN   1.729479e+27   \n",
       "4  61.255232   3.736249        NaN          NaN      NaN   4.655394e+26   \n",
       "5  61.993976   2.199367        NaN          NaN      NaN   4.663495e+26   \n",
       "\n",
       "     Luminosity  \n",
       "0  6.190318e+40  \n",
       "1  7.852329e+40  \n",
       "2  8.937774e+41  \n",
       "3  2.668565e+41  \n",
       "4  5.168830e+41  \n",
       "5  3.962767e+40  "
      ],
      "text/html": [
       "<div>\n",
       "<style scoped>\n",
       "    .dataframe tbody tr th:only-of-type {\n",
       "        vertical-align: middle;\n",
       "    }\n",
       "\n",
       "    .dataframe tbody tr th {\n",
       "        vertical-align: top;\n",
       "    }\n",
       "\n",
       "    .dataframe thead th {\n",
       "        text-align: right;\n",
       "    }\n",
       "</style>\n",
       "<table border=\"1\" class=\"dataframe\">\n",
       "  <thead>\n",
       "    <tr style=\"text-align: right;\">\n",
       "      <th></th>\n",
       "      <th>ID</th>\n",
       "      <th>redshift</th>\n",
       "      <th>Flux</th>\n",
       "      <th>Mean Loc</th>\n",
       "      <th>FWHM (Angstrom)</th>\n",
       "      <th>Equivalent Width (Angstrom)</th>\n",
       "      <th>V_med (km/s)</th>\n",
       "      <th>W80 (km/s)</th>\n",
       "      <th>A</th>\n",
       "      <th>K</th>\n",
       "      <th>Max Sigma</th>\n",
       "      <th>Max Gamma</th>\n",
       "      <th>a_Asymmetry</th>\n",
       "      <th>W_width</th>\n",
       "      <th>Distance (cm)</th>\n",
       "      <th>Luminosity</th>\n",
       "    </tr>\n",
       "  </thead>\n",
       "  <tbody>\n",
       "    <tr>\n",
       "      <th>0</th>\n",
       "      <td>manga-8137-3702</td>\n",
       "      <td>0.066881</td>\n",
       "      <td>559.386185</td>\n",
       "      <td>5007.073649</td>\n",
       "      <td>6.00060</td>\n",
       "      <td>6.508608</td>\n",
       "      <td>-1.521459e-05</td>\n",
       "      <td>398.392101</td>\n",
       "      <td>1.254443e-07</td>\n",
       "      <td>60.997332</td>\n",
       "      <td>2.597031</td>\n",
       "      <td>NaN</td>\n",
       "      <td>NaN</td>\n",
       "      <td>NaN</td>\n",
       "      <td>9.384166e+26</td>\n",
       "      <td>6.190318e+40</td>\n",
       "    </tr>\n",
       "    <tr>\n",
       "      <th>1</th>\n",
       "      <td>manga-8318-6102</td>\n",
       "      <td>0.046550</td>\n",
       "      <td>1508.451836</td>\n",
       "      <td>5008.870713</td>\n",
       "      <td>4.40044</td>\n",
       "      <td>4.833727</td>\n",
       "      <td>-2.695203e-06</td>\n",
       "      <td>295.729115</td>\n",
       "      <td>2.993631e-08</td>\n",
       "      <td>61.743713</td>\n",
       "      <td>1.927892</td>\n",
       "      <td>NaN</td>\n",
       "      <td>NaN</td>\n",
       "      <td>NaN</td>\n",
       "      <td>6.436186e+26</td>\n",
       "      <td>7.852329e+40</td>\n",
       "    </tr>\n",
       "    <tr>\n",
       "      <th>2</th>\n",
       "      <td>manga-8612-12704</td>\n",
       "      <td>0.126069</td>\n",
       "      <td>2096.287963</td>\n",
       "      <td>5008.816585</td>\n",
       "      <td>8.40084</td>\n",
       "      <td>8.956474</td>\n",
       "      <td>-8.440293e-07</td>\n",
       "      <td>548.148857</td>\n",
       "      <td>5.057891e-09</td>\n",
       "      <td>59.947430</td>\n",
       "      <td>3.573880</td>\n",
       "      <td>NaN</td>\n",
       "      <td>NaN</td>\n",
       "      <td>NaN</td>\n",
       "      <td>1.841977e+27</td>\n",
       "      <td>8.937774e+41</td>\n",
       "    </tr>\n",
       "    <tr>\n",
       "      <th>3</th>\n",
       "      <td>manga-12074-3701</td>\n",
       "      <td>0.118928</td>\n",
       "      <td>709.965746</td>\n",
       "      <td>5009.539582</td>\n",
       "      <td>11.00110</td>\n",
       "      <td>11.856189</td>\n",
       "      <td>2.506087e-06</td>\n",
       "      <td>725.403856</td>\n",
       "      <td>-1.134790e-08</td>\n",
       "      <td>60.581289</td>\n",
       "      <td>4.729680</td>\n",
       "      <td>NaN</td>\n",
       "      <td>NaN</td>\n",
       "      <td>NaN</td>\n",
       "      <td>1.729479e+27</td>\n",
       "      <td>2.668565e+41</td>\n",
       "    </tr>\n",
       "    <tr>\n",
       "      <th>4</th>\n",
       "      <td>manga-9026-9101</td>\n",
       "      <td>0.033985</td>\n",
       "      <td>18978.834474</td>\n",
       "      <td>5005.939636</td>\n",
       "      <td>8.60086</td>\n",
       "      <td>9.366580</td>\n",
       "      <td>2.891120e-07</td>\n",
       "      <td>573.443059</td>\n",
       "      <td>-1.656310e-09</td>\n",
       "      <td>61.255232</td>\n",
       "      <td>3.736249</td>\n",
       "      <td>NaN</td>\n",
       "      <td>NaN</td>\n",
       "      <td>NaN</td>\n",
       "      <td>4.655394e+26</td>\n",
       "      <td>5.168830e+41</td>\n",
       "    </tr>\n",
       "    <tr>\n",
       "      <th>5</th>\n",
       "      <td>manga-11013-6101</td>\n",
       "      <td>0.034043</td>\n",
       "      <td>1449.991851</td>\n",
       "      <td>5007.966036</td>\n",
       "      <td>5.00050</td>\n",
       "      <td>5.514007</td>\n",
       "      <td>-2.040442e-06</td>\n",
       "      <td>337.417929</td>\n",
       "      <td>1.986272e-08</td>\n",
       "      <td>61.993976</td>\n",
       "      <td>2.199367</td>\n",
       "      <td>NaN</td>\n",
       "      <td>NaN</td>\n",
       "      <td>NaN</td>\n",
       "      <td>4.663495e+26</td>\n",
       "      <td>3.962767e+40</td>\n",
       "    </tr>\n",
       "  </tbody>\n",
       "</table>\n",
       "</div>"
      ]
     },
     "execution_count": 171,
     "metadata": {},
     "output_type": "execute_result"
    }
   ],
   "execution_count": 171
  },
  {
   "metadata": {
    "ExecuteTime": {
     "end_time": "2024-10-21T00:13:20.699984Z",
     "start_time": "2024-10-21T00:13:20.660030Z"
    }
   },
   "cell_type": "code",
   "source": "OIIIp_asymmetric",
   "id": "9de99bfefe7697fa",
   "outputs": [
    {
     "data": {
      "text/plain": [
       "                 ID  redshift          Flux     Mean Loc  FWHM (Angstrom)  \\\n",
       "0   manga-8137-3702  0.066881   1598.670899  5007.073880          6.80068   \n",
       "1   manga-8318-6102  0.046550   4770.939424  5008.871355          5.00050   \n",
       "2  manga-8612-12704  0.126069   1944.604823  5008.925122          7.60076   \n",
       "3  manga-12074-3701  0.118928   1642.801173  5009.540685         12.40124   \n",
       "4   manga-9026-9101  0.033985  47049.664278  5005.938863          9.80098   \n",
       "5  manga-11013-6101  0.034043   4393.017577  5007.966737          5.60056   \n",
       "\n",
       "   Equivalent Width (Angstrom)  V_med (km/s)    W80 (km/s)         A  \\\n",
       "0                    18.601420   1496.599869  81102.305320  0.962142   \n",
       "1                    15.288264   2792.438545  83761.795653  0.932679   \n",
       "2                     8.311919      1.873581    508.519468  0.006052   \n",
       "3                    27.435011   1022.957244  71346.666206  0.968831   \n",
       "4                    23.220349   1038.488382  75645.221476  0.970827   \n",
       "5                    16.705446   2028.812752  82719.987364  0.950189   \n",
       "\n",
       "              K  Max Sigma  Max Gamma  a_Asymmetry   W_width  Distance (cm)  \\\n",
       "0   9920.977221        NaN        NaN     0.300839  2.596946   9.384166e+26   \n",
       "1  13673.283533        NaN        NaN     0.299006  1.927386   6.436186e+26   \n",
       "2     61.468926        NaN        NaN     0.004722  3.314370   1.841977e+27   \n",
       "3   5147.757390        NaN        NaN     0.301428  4.727861   1.729479e+27   \n",
       "4   6685.243737        NaN        NaN     0.300854  3.733994   4.655394e+26   \n",
       "5  12146.225382        NaN        NaN     0.299977  2.200628   4.663495e+26   \n",
       "\n",
       "     Luminosity  \n",
       "0  1.769132e+41  \n",
       "1  2.483539e+41  \n",
       "2  8.291055e+41  \n",
       "3  6.174836e+41  \n",
       "4  1.281384e+42  \n",
       "5  1.200593e+41  "
      ],
      "text/html": [
       "<div>\n",
       "<style scoped>\n",
       "    .dataframe tbody tr th:only-of-type {\n",
       "        vertical-align: middle;\n",
       "    }\n",
       "\n",
       "    .dataframe tbody tr th {\n",
       "        vertical-align: top;\n",
       "    }\n",
       "\n",
       "    .dataframe thead th {\n",
       "        text-align: right;\n",
       "    }\n",
       "</style>\n",
       "<table border=\"1\" class=\"dataframe\">\n",
       "  <thead>\n",
       "    <tr style=\"text-align: right;\">\n",
       "      <th></th>\n",
       "      <th>ID</th>\n",
       "      <th>redshift</th>\n",
       "      <th>Flux</th>\n",
       "      <th>Mean Loc</th>\n",
       "      <th>FWHM (Angstrom)</th>\n",
       "      <th>Equivalent Width (Angstrom)</th>\n",
       "      <th>V_med (km/s)</th>\n",
       "      <th>W80 (km/s)</th>\n",
       "      <th>A</th>\n",
       "      <th>K</th>\n",
       "      <th>Max Sigma</th>\n",
       "      <th>Max Gamma</th>\n",
       "      <th>a_Asymmetry</th>\n",
       "      <th>W_width</th>\n",
       "      <th>Distance (cm)</th>\n",
       "      <th>Luminosity</th>\n",
       "    </tr>\n",
       "  </thead>\n",
       "  <tbody>\n",
       "    <tr>\n",
       "      <th>0</th>\n",
       "      <td>manga-8137-3702</td>\n",
       "      <td>0.066881</td>\n",
       "      <td>1598.670899</td>\n",
       "      <td>5007.073880</td>\n",
       "      <td>6.80068</td>\n",
       "      <td>18.601420</td>\n",
       "      <td>1496.599869</td>\n",
       "      <td>81102.305320</td>\n",
       "      <td>0.962142</td>\n",
       "      <td>9920.977221</td>\n",
       "      <td>NaN</td>\n",
       "      <td>NaN</td>\n",
       "      <td>0.300839</td>\n",
       "      <td>2.596946</td>\n",
       "      <td>9.384166e+26</td>\n",
       "      <td>1.769132e+41</td>\n",
       "    </tr>\n",
       "    <tr>\n",
       "      <th>1</th>\n",
       "      <td>manga-8318-6102</td>\n",
       "      <td>0.046550</td>\n",
       "      <td>4770.939424</td>\n",
       "      <td>5008.871355</td>\n",
       "      <td>5.00050</td>\n",
       "      <td>15.288264</td>\n",
       "      <td>2792.438545</td>\n",
       "      <td>83761.795653</td>\n",
       "      <td>0.932679</td>\n",
       "      <td>13673.283533</td>\n",
       "      <td>NaN</td>\n",
       "      <td>NaN</td>\n",
       "      <td>0.299006</td>\n",
       "      <td>1.927386</td>\n",
       "      <td>6.436186e+26</td>\n",
       "      <td>2.483539e+41</td>\n",
       "    </tr>\n",
       "    <tr>\n",
       "      <th>2</th>\n",
       "      <td>manga-8612-12704</td>\n",
       "      <td>0.126069</td>\n",
       "      <td>1944.604823</td>\n",
       "      <td>5008.925122</td>\n",
       "      <td>7.60076</td>\n",
       "      <td>8.311919</td>\n",
       "      <td>1.873581</td>\n",
       "      <td>508.519468</td>\n",
       "      <td>0.006052</td>\n",
       "      <td>61.468926</td>\n",
       "      <td>NaN</td>\n",
       "      <td>NaN</td>\n",
       "      <td>0.004722</td>\n",
       "      <td>3.314370</td>\n",
       "      <td>1.841977e+27</td>\n",
       "      <td>8.291055e+41</td>\n",
       "    </tr>\n",
       "    <tr>\n",
       "      <th>3</th>\n",
       "      <td>manga-12074-3701</td>\n",
       "      <td>0.118928</td>\n",
       "      <td>1642.801173</td>\n",
       "      <td>5009.540685</td>\n",
       "      <td>12.40124</td>\n",
       "      <td>27.435011</td>\n",
       "      <td>1022.957244</td>\n",
       "      <td>71346.666206</td>\n",
       "      <td>0.968831</td>\n",
       "      <td>5147.757390</td>\n",
       "      <td>NaN</td>\n",
       "      <td>NaN</td>\n",
       "      <td>0.301428</td>\n",
       "      <td>4.727861</td>\n",
       "      <td>1.729479e+27</td>\n",
       "      <td>6.174836e+41</td>\n",
       "    </tr>\n",
       "    <tr>\n",
       "      <th>4</th>\n",
       "      <td>manga-9026-9101</td>\n",
       "      <td>0.033985</td>\n",
       "      <td>47049.664278</td>\n",
       "      <td>5005.938863</td>\n",
       "      <td>9.80098</td>\n",
       "      <td>23.220349</td>\n",
       "      <td>1038.488382</td>\n",
       "      <td>75645.221476</td>\n",
       "      <td>0.970827</td>\n",
       "      <td>6685.243737</td>\n",
       "      <td>NaN</td>\n",
       "      <td>NaN</td>\n",
       "      <td>0.300854</td>\n",
       "      <td>3.733994</td>\n",
       "      <td>4.655394e+26</td>\n",
       "      <td>1.281384e+42</td>\n",
       "    </tr>\n",
       "    <tr>\n",
       "      <th>5</th>\n",
       "      <td>manga-11013-6101</td>\n",
       "      <td>0.034043</td>\n",
       "      <td>4393.017577</td>\n",
       "      <td>5007.966737</td>\n",
       "      <td>5.60056</td>\n",
       "      <td>16.705446</td>\n",
       "      <td>2028.812752</td>\n",
       "      <td>82719.987364</td>\n",
       "      <td>0.950189</td>\n",
       "      <td>12146.225382</td>\n",
       "      <td>NaN</td>\n",
       "      <td>NaN</td>\n",
       "      <td>0.299977</td>\n",
       "      <td>2.200628</td>\n",
       "      <td>4.663495e+26</td>\n",
       "      <td>1.200593e+41</td>\n",
       "    </tr>\n",
       "  </tbody>\n",
       "</table>\n",
       "</div>"
      ]
     },
     "execution_count": 132,
     "metadata": {},
     "output_type": "execute_result"
    }
   ],
   "execution_count": 132
  },
  {
   "metadata": {},
   "cell_type": "markdown",
   "source": "",
   "id": "b344786d2d0cbccd"
  },
  {
   "metadata": {},
   "cell_type": "markdown",
   "source": [
    "#### AKSITA: FINAL NOTES FOR THE PROJECT:\n",
    "\n",
    "The tables produced from the previous cells provides everything needed to finalize the analysis for \n",
    "your report. The remaining task is to create the following plots, based on the information from \n",
    "the four tables above. Follow these steps for both $[OIII]$ and $H\\alpha$ lines (4 meta-tables \n",
    "produced in the previous cell):\n",
    "\n",
    "1. Plot the asymmetry parameter ($a_{sym}$) from the asymmetric Gaussian fit (under the \n",
    "'a_Asymmetry' key) against the velocity asymmetry parameter (under the 'A' key), calculated from the velocities. Discuss the scatter pattern and its implications.\n",
    "\n",
    "\n",
    "These plots will allow us to compare the outflow detection differences between the fitting models.\n",
    " Analyzing and discussing these comparisons will complete your report ! :)\n"
   ],
   "id": "f7dd69ba7696aaa4"
  },
  {
   "metadata": {
    "ExecuteTime": {
     "end_time": "2024-10-21T00:23:12.681498Z",
     "start_time": "2024-10-21T00:23:12.549375Z"
    }
   },
   "cell_type": "code",
   "source": [
    "# Plot a_Asymmetry vs A for [OIII]\n",
    "plt.figure(figsize=(8, 6))\n",
    "plt.scatter(OIIIp_asymmetric['a_Asymmetry'], OIIIp_asymmetric['A'], color='blue', marker='o')\n",
    "\n",
    "# plt.ylim(0.9,1)\n",
    "plt.xlabel('Asymmetry Parameter')\n",
    "plt.ylabel('Velocity Asymmetry Parameter')\n",
    "plt.title('[OIII] Asymmetry vs Velocity Asymmetry')\n",
    "plt.grid(True)\n",
    "plt.show()"
   ],
   "id": "c6804be323bf1627",
   "outputs": [
    {
     "data": {
      "text/plain": [
       "<Figure size 800x600 with 1 Axes>"
      ],
      "image/png": "[encoded data removed]"
     },
     "metadata": {},
     "output_type": "display_data"
    }
   ],
   "execution_count": 141
  },
  {
   "metadata": {
    "ExecuteTime": {
     "end_time": "2024-10-21T01:17:48.986835Z",
     "start_time": "2024-10-21T01:17:48.835821Z"
    }
   },
   "cell_type": "code",
   "source": [
    "# Plot a_Asymmetry vs A for H-a\n",
    "plt.figure(figsize=(8, 6))\n",
    "plt.scatter(Hap_asymmetric['a_Asymmetry'], Hap_asymmetric['A'], color='blue', marker='o')\n",
    "\n",
    "# plt.ylim(0.9,1)\n",
    "plt.xlabel('Asymmetry Parameter')\n",
    "plt.ylabel('Velocity Asymmetry Parameter')\n",
    "plt.title(r'H$\\alpha$ Asymmetry vs Velocity Asymmetry')\n",
    "plt.grid(True)\n",
    "plt.show()"
   ],
   "id": "32d815c1a129913d",
   "outputs": [
    {
     "data": {
      "text/plain": [
       "<Figure size 800x600 with 1 Axes>"
      ],
      "image/png": "[encoded data removed]"
     },
     "metadata": {},
     "output_type": "display_data"
    }
   ],
   "execution_count": 211
  },
  {
   "metadata": {},
   "cell_type": "markdown",
   "source": [
    "2. Compare the kurtosis (K) parameter from both the asymmetric Gaussian fit and the normal Gaussian\n",
    " fit. Plot K from both models against each other and explore any correlations or deviations."
   ],
   "id": "955ffea3d26f090f"
  },
  {
   "metadata": {
    "ExecuteTime": {
     "end_time": "2024-10-21T01:16:47.241808Z",
     "start_time": "2024-10-21T01:16:47.126899Z"
    }
   },
   "cell_type": "code",
   "source": [
    "# Plot K for both models against each other\n",
    "plt.figure(figsize=(8, 6))\n",
    "plt.scatter(OIIIp_gauss['K'], OIIIp_asymmetric['K'], color='green', marker='o')\n",
    "\n",
    "plt.xlabel('Gaussian Kurtosis')\n",
    "plt.ylabel('Asymmetric Gaussian Kurtosis')\n",
    "plt.title('[OIII] Kurtosis Comparison')\n",
    "plt.grid(True)\n",
    "plt.show()"
   ],
   "id": "5f671e4330680316",
   "outputs": [
    {
     "data": {
      "text/plain": [
       "<Figure size 800x600 with 1 Axes>"
      ],
      "image/png": "[encoded data removed]"
     },
     "metadata": {},
     "output_type": "display_data"
    }
   ],
   "execution_count": 209
  },
  {
   "metadata": {
    "ExecuteTime": {
     "end_time": "2024-10-21T01:19:13.734616Z",
     "start_time": "2024-10-21T01:19:13.505495Z"
    }
   },
   "cell_type": "code",
   "source": [
    "# Plot K for both models against each other\n",
    "plt.figure(figsize=(8, 6))\n",
    "plt.scatter(Hap_gauss['K'], Hap_asymmetric['K'], color='green', marker='o')\n",
    "\n",
    "plt.xlabel('Gaussian Kurtosis')\n",
    "plt.ylabel('Asymmetric Gaussian Kurtosis')\n",
    "plt.title(r'H$\\alpha$ Kurtosis Comparison')\n",
    "plt.grid(True)\n",
    "plt.show()"
   ],
   "id": "5abdd314b1deb45d",
   "outputs": [
    {
     "data": {
      "text/plain": [
       "<Figure size 800x600 with 1 Axes>"
      ],
      "image/png": "[encoded data removed]"
     },
     "metadata": {},
     "output_type": "display_data"
    }
   ],
   "execution_count": 212
  },
  {
   "metadata": {},
   "cell_type": "markdown",
   "source": [
    "3. Plot the Luminosity versus:\n",
    "    - Gaussian sigma\n",
    "    - Asymmetric Gaussian width parameter (w)\n",
    "    - If Lorentzian fits are included, also plot the gamma parameter. \n",
    "Use different color codes and symbols for subgroups in the same plot to distinguish between them.\n"
   ],
   "id": "6508707fe91ead57"
  },
  {
   "metadata": {
    "ExecuteTime": {
     "end_time": "2024-10-21T01:20:18.436010Z",
     "start_time": "2024-10-21T01:20:18.316608Z"
    }
   },
   "cell_type": "code",
   "source": [
    "# Plot Luminosity vs Gaussian Sigma, Asymmetric Gaussian Width\n",
    "plt.figure(figsize=(10, 8))\n",
    "\n",
    "# Gaussian Sigma\n",
    "plt.scatter(OIIIp_gauss['Luminosity'], OIIIp_gauss['Max Sigma'], color='blue', label='Gaussian Width', marker='o')\n",
    "\n",
    "# Asymmetric Gaussian Sigma\n",
    "plt.scatter(OIIIp_asymmetric['Luminosity'], OIIIp_asymmetric['W_width'], color='green', label='Asymmetric Gaussian Width', marker='s')\n",
    "\n",
    "plt.xlabel('Luminosity (erg/s)')\n",
    "plt.ylabel('Width Parameters (Sigma)')\n",
    "plt.title('[OIII] Luminosity vs Width')\n",
    "plt.legend()\n",
    "plt.grid(True)\n",
    "plt.show()"
   ],
   "id": "9e53cc0951478788",
   "outputs": [
    {
     "data": {
      "text/plain": [
       "<Figure size 1000x800 with 1 Axes>"
      ],
      "image/png": "[encoded data removed]"
     },
     "metadata": {},
     "output_type": "display_data"
    }
   ],
   "execution_count": 213
  },
  {
   "metadata": {
    "ExecuteTime": {
     "end_time": "2024-10-21T01:21:50.651273Z",
     "start_time": "2024-10-21T01:21:50.514390Z"
    }
   },
   "cell_type": "code",
   "source": [
    "# Plot Luminosity vs Gaussian Sigma, Asymmetric Gaussian Width\n",
    "plt.figure(figsize=(10, 8))\n",
    "\n",
    "# Gaussian Sigma\n",
    "plt.scatter(Hap_gauss['Luminosity'], Hap_gauss['Max Sigma'], color='blue', label='Gaussian Width', marker='o')\n",
    "\n",
    "# Asymmetric Gaussian Sigma\n",
    "plt.scatter(Hap_asymmetric['Luminosity'], Hap_asymmetric['W_width'], color='green', label='Asymmetric Gaussian Width', marker='s')\n",
    "\n",
    "plt.xlabel('Luminosity (erg/s)')\n",
    "plt.ylabel('Width Parameters (Sigma)')\n",
    "plt.title(r'H$\\alpha$ Luminosity vs Width')\n",
    "plt.legend()\n",
    "plt.grid(True)\n",
    "plt.show()"
   ],
   "id": "1f43a96b1d4be0db",
   "outputs": [
    {
     "data": {
      "text/plain": [
       "<Figure size 1000x800 with 1 Axes>"
      ],
      "image/png": "[encoded data removed]"
     },
     "metadata": {},
     "output_type": "display_data"
    }
   ],
   "execution_count": 214
  },
  {
   "metadata": {},
   "cell_type": "markdown",
   "source": [
    "\n",
    "4. Create a separate plot of Luminosity versus:\n",
    "    - FWHM (Full Width at Half Maximum)\n",
    "    - $W_{80}$ (width containing 80% of the line flux)\n",
    "    Do this for both the Gaussian and asymmetric Gaussian fits, using different symbols for each model."
   ],
   "id": "52f52f33d6fd1afa"
  },
  {
   "metadata": {
    "ExecuteTime": {
     "end_time": "2024-10-21T01:40:56.413285Z",
     "start_time": "2024-10-21T01:40:56.218739Z"
    }
   },
   "cell_type": "code",
   "source": [
    "# Plot Luminosity vs FWHM\n",
    "plt.figure(figsize=(10, 8))\n",
    "plt.scatter(OIIIp_gauss['Luminosity'], OIIIp_gauss['FWHM (Angstrom)'], color='blue', label='Gaussian', marker='o')\n",
    "plt.scatter(OIIIp_asymmetric['Luminosity'], OIIIp_asymmetric['FWHM (Angstrom)'], color='orange', label='Asymmetric Gaussian', marker='x')\n",
    "\n",
    "plt.xlabel('Luminosity (erg/s)')\n",
    "plt.ylabel('FWHM (Angstrom)')\n",
    "plt.title('[OIII] Luminosity vs FWHM')\n",
    "plt.legend()\n",
    "plt.grid(True)\n",
    "plt.show()\n"
   ],
   "id": "5f6481b8469b73f3",
   "outputs": [
    {
     "data": {
      "text/plain": [
       "<Figure size 1000x800 with 1 Axes>"
      ],
      "image/png": "[encoded data removed]"
     },
     "metadata": {},
     "output_type": "display_data"
    }
   ],
   "execution_count": 221
  },
  {
   "metadata": {
    "ExecuteTime": {
     "end_time": "2024-10-21T01:40:48.961487Z",
     "start_time": "2024-10-21T01:40:48.791966Z"
    }
   },
   "cell_type": "code",
   "source": [
    "# Plot Luminosity vs FWHM\n",
    "plt.figure(figsize=(10, 8))\n",
    "\n",
    "plt.scatter(Hap_gauss['Luminosity'], Hap_gauss['FWHM (Angstrom)'], color='blue', label='Gaussian', marker='o')\n",
    "plt.scatter(Hap_asymmetric['Luminosity'], Hap_asymmetric['FWHM (Angstrom)'], color='orange', label='Asymmetric Gaussian', marker='x')\n",
    "\n",
    "plt.xlabel('Luminosity (erg/s)')\n",
    "plt.ylabel('FWHM (Angstrom)')\n",
    "plt.title(r'H$\\alpha$ Luminosity vs FWHM')\n",
    "plt.legend()\n",
    "plt.grid(True)\n",
    "plt.show()"
   ],
   "id": "144e7b7a3ca9cb60",
   "outputs": [
    {
     "data": {
      "text/plain": [
       "<Figure size 1000x800 with 1 Axes>"
      ],
      "image/png": "[encoded data removed]"
     },
     "metadata": {},
     "output_type": "display_data"
    }
   ],
   "execution_count": 220
  },
  {
   "metadata": {
    "ExecuteTime": {
     "end_time": "2024-10-21T01:40:40.732592Z",
     "start_time": "2024-10-21T01:40:40.626038Z"
    }
   },
   "cell_type": "code",
   "source": [
    "# Plot Luminosity vs W80\n",
    "plt.figure(figsize=(10, 8))\n",
    "\n",
    "plt.scatter(OIIIp_gauss['Luminosity'], OIIIp_gauss['W80 (km/s)'], color='green', label='Gaussian', marker='s')\n",
    "plt.scatter(OIIIp_asymmetric['Luminosity'], OIIIp_asymmetric['W80 (km/s)'], color='red', label='Asymmetric Gaussian', marker='^')\n",
    "\n",
    "plt.xlabel('Luminosity (erg/s)')\n",
    "plt.ylabel('Line Flux $W_{80}$ (km/s)')\n",
    "plt.title('[OIII] Luminosity vs $W_{80}$')\n",
    "plt.legend()\n",
    "plt.grid(True)\n",
    "plt.show()"
   ],
   "id": "134f3af79eca67b4",
   "outputs": [
    {
     "data": {
      "text/plain": [
       "<Figure size 1000x800 with 1 Axes>"
      ],
      "image/png": "[encoded data removed]"
     },
     "metadata": {},
     "output_type": "display_data"
    }
   ],
   "execution_count": 219
  },
  {
   "metadata": {
    "ExecuteTime": {
     "end_time": "2024-10-21T02:05:48.730725Z",
     "start_time": "2024-10-21T02:05:48.489193Z"
    }
   },
   "cell_type": "code",
   "source": [
    "# Plot Luminosity vs W80 \n",
    "plt.figure(figsize=(10, 8))\n",
    "\n",
    "plt.scatter(Hap_gauss['Luminosity'], Hap_gauss['W80 (km/s)'], color='green', label='Gaussian', marker='s')\n",
    "plt.scatter(Hap_asymmetric['Luminosity'], Hap_asymmetric['W80 (km/s)'], color='red', label='Asymmetric Gaussian', marker='^')\n",
    "\n",
    "plt.xlabel('Luminosity (erg/s)')\n",
    "plt.ylabel('Line Flux $W_{80}$ (km/s)')\n",
    "plt.title(r'H$\\alpha$ Luminosity vs $W_{80}$')\n",
    "plt.legend()\n",
    "plt.grid(True)\n",
    "plt.show()"
   ],
   "id": "5349d07214a69642",
   "outputs": [
    {
     "data": {
      "text/plain": [
       "<Figure size 1000x800 with 1 Axes>"
      ],
      "image/png": "[encoded data removed]"
     },
     "metadata": {},
     "output_type": "display_data"
    }
   ],
   "execution_count": 226
  },
  {
   "metadata": {},
   "cell_type": "markdown",
   "source": [
    "5. Velocity offset plots:\n",
    "    Knowing that you have the velocity offset computing code for the lines, you can use this information\n",
    "    to produce:\n",
    "    - Plot velocity offset versus $a_{sym}$.\n",
    "    - Plot velocity offset versus redshift. This can be done as two separate plots or combined into one\n",
    "    plot with a color gradient (use a colourbar) representing the redshift."
   ],
   "id": "c268a48fb25ad63e"
  },
  {
   "metadata": {
    "ExecuteTime": {
     "end_time": "2024-10-21T00:57:25.735204Z",
     "start_time": "2024-10-21T00:57:25.712786Z"
    }
   },
   "cell_type": "code",
   "source": "c = 299792.458 ",
   "id": "88e4feaeb93fc62",
   "outputs": [],
   "execution_count": 179
  },
  {
   "metadata": {
    "ExecuteTime": {
     "end_time": "2024-10-21T00:57:26.253387Z",
     "start_time": "2024-10-21T00:57:26.250489Z"
    }
   },
   "cell_type": "code",
   "source": [
    "o3 = emission_line_models1['O-III,2']['wavelength'][0]\n",
    "ha = emission_line_models1['H-α']['wavelength'][0]"
   ],
   "id": "f9d38bb537cddbe4",
   "outputs": [],
   "execution_count": 180
  },
  {
   "metadata": {
    "ExecuteTime": {
     "end_time": "2024-10-21T01:41:57.039699Z",
     "start_time": "2024-10-21T01:41:57.033140Z"
    }
   },
   "cell_type": "code",
   "source": [
    "o3vel = (OIIIp_asymmetric['redshift'].values*c/1000)\n",
    "havel = (Hap_asymmetric['redshift'].values*c/1000)"
   ],
   "id": "f50382388900896c",
   "outputs": [],
   "execution_count": 223
  },
  {
   "metadata": {
    "ExecuteTime": {
     "end_time": "2024-10-21T01:41:58.621506Z",
     "start_time": "2024-10-21T01:41:58.512792Z"
    }
   },
   "cell_type": "code",
   "source": [
    "# Velocity offset vs Asymmetry parameter \n",
    "plt.figure(figsize=(8, 6))\n",
    "\n",
    "# Create scatter plot with redshift as the colour scale\n",
    "sc = plt.scatter(OIIIp_asymmetric['a_Asymmetry'], o3vel, c=OIIIp_asymmetric['redshift'], cmap='viridis', marker='o')\n",
    "\n",
    "# Add labels and title\n",
    "plt.xlabel('Asymmetry Parameter')\n",
    "plt.ylabel('Velocity Offset (km/s)')\n",
    "plt.title('[OIII] Velocity vs Asymmetry')\n",
    "plt.grid(True)\n",
    "\n",
    "# Add colourbar\n",
    "cbar = plt.colorbar(sc)\n",
    "cbar.set_label('Redshift')\n",
    "\n",
    "plt.show()"
   ],
   "id": "1939c57b2476a78c",
   "outputs": [
    {
     "data": {
      "text/plain": [
       "<Figure size 800x600 with 2 Axes>"
      ],
      "image/png": "[encoded data removed]"
     },
     "metadata": {},
     "output_type": "display_data"
    }
   ],
   "execution_count": 224
  },
  {
   "metadata": {
    "ExecuteTime": {
     "end_time": "2024-10-21T01:41:59.122524Z",
     "start_time": "2024-10-21T01:41:59.039029Z"
    }
   },
   "cell_type": "code",
   "source": [
    "# Velocity offset vs Asymmetry parameter\n",
    "plt.figure(figsize=(8, 6))\n",
    "\n",
    "# Create scatter plot with redshift as the colour scale\n",
    "sc = plt.scatter(Hap_asymmetric['a_Asymmetry'], havel, c=Hap_asymmetric['redshift'], cmap='viridis', marker='o')\n",
    "\n",
    "# Add labels and title\n",
    "plt.xlabel('Asymmetry Parameter')\n",
    "plt.ylabel('Velocity Offset (km/s)')\n",
    "plt.title(r'H$\\alpha$ Velocity vs Asymmetry')\n",
    "plt.grid(True)\n",
    "\n",
    "# Add colourbar\n",
    "cbar = plt.colorbar(sc)\n",
    "cbar.set_label('Redshift')\n",
    "\n",
    "plt.show()"
   ],
   "id": "4cf02d657c2d78ba",
   "outputs": [
    {
     "data": {
      "text/plain": [
       "<Figure size 800x600 with 2 Axes>"
      ],
      "image/png": "[encoded data removed]"
     },
     "metadata": {},
     "output_type": "display_data"
    }
   ],
   "execution_count": 225
  },
  {
   "metadata": {},
   "cell_type": "code",
   "outputs": [],
   "execution_count": null,
   "source": "",
   "id": "8b8009c6819537f1"
  },
  {
   "metadata": {},
   "cell_type": "code",
   "outputs": [],
   "execution_count": null,
   "source": "",
   "id": "e9a30a2b16a7032"
  },
  {
   "metadata": {},
   "cell_type": "code",
   "outputs": [],
   "execution_count": null,
   "source": "",
   "id": "907277ed1b899649"
  },
  {
   "metadata": {},
   "cell_type": "code",
   "outputs": [],
   "execution_count": null,
   "source": [
    "\n",
    "'''\n",
    "Let's have a look at an individual fit of one of the emission lines, assuming it's Gaussian:\n",
    "Taking a Gaussian with the form  a * np.exp(-0.5*((x - b / c)**2))\n",
    "'''\n",
    "# \n",
    "# # Define the emission line\n",
    "# Emission_line = 'N-II,1'\n",
    "# params = fit0[fit0['Line Name'] == Emission_line]\n",
    "# \n",
    "# # Generate x-axis values\n",
    "# x = spec0[:, 0]\n",
    "# gauss_comp = []\n",
    "# \n",
    "# for index, row in params.iterrows():\n",
    "# \n",
    "#   # Define the Gaussian\n",
    "#   b, a, c  = row[\"Parameters\"] # Extract parameters from the row\n",
    "#   # Calculate Gaussian & Append\n",
    "#   gauss = a * np.exp(-(x-b)**2/(2*c**2))\n",
    "#   gauss_comp.append(gauss)\n",
    "# \n",
    "# gauss_total = np.sum(gauss_comp, axis=0)\n",
    "# \n",
    "# # Normalise spectra (optional, depending on data)\n",
    "# # spec0_norm = spec0[:, 1] / np.max(spec0[:, 1])\n",
    "# \n",
    "# # Zoom into the plot\n",
    "# lowerlim = b - 100\n",
    "# upperlim = b + 100\n",
    "# \n",
    "# # Plot the Gaussian distribution and normalised spectra\n",
    "# plt.plot(x, spec0[:, 1], label='spectra')\n",
    "# plt.plot(x, gauss_total, label=Emission_line + ' fit', ls='dashed')\n",
    "# plt.xlim(lowerlim, upperlim)\n",
    "# plt.xlabel('Wavelength')\n",
    "# plt.ylabel('Flux')\n",
    "# plt.legend()\n",
    "# plt.show()"
   ],
   "id": "2a40d69560ed6e52"
  },
  {
   "cell_type": "markdown",
   "id": "51029b5ed2df06a3",
   "metadata": {
    "id": "51029b5ed2df06a3"
   },
   "source": [
    "## Next step: elevating the number of components for a given list of lines.\n",
    "This should be a good goal to hit for the next week. Let´s dive into it and discuss any progress on Friday. We have to:\n",
    "* Create a function that takes as inputs:\n",
    " * A given dataframe with same structure as the input and output one from the run_mcmc_chains method.\n",
    " * A list of a subgroup of lines with components to ADD the current model (see cell below)\n",
    " * Based on that: take the parameters from the previous component(s) as guesses for the next ones, update correctly the dataframe, and run the run_mcmc_chains method again.\n",
    "\n",
    "\n",
    "\n",
    "---\n",
    "\n",
    "*Refinements*\n",
    "\n",
    " Add extra method that identifies when adding more components whether the centroid is blue or red shifted compared to the previous profile (calculate which side the mean residuals are shifted towards) and update further guesses"
   ]
  },
  {
   "cell_type": "markdown",
   "id": "dCMY03oFRdi1",
   "metadata": {
    "id": "dCMY03oFRdi1"
   },
   "source": [
    "####A function to update components without recalculating minimum and maximum limits:\n",
    "\n"
   ]
  },
  {
   "cell_type": "code",
   "id": "464908b5375f6e25",
   "metadata": {
    "executionInfo": {
     "elapsed": 9,
     "status": "ok",
     "timestamp": 1725521694155,
     "user": {
      "displayName": "Aksita Deo",
      "userId": "10398143209524373510"
     },
     "user_tz": -600
    },
    "id": "464908b5375f6e25"
   },
   "source": [
    "def update_components(dfparams, dfog, additional_components_dict, num):\n",
    "    '''\n",
    "    This function takes a dataframe of a given emission line spectral model and\n",
    "    updates it with additional components, in consistency with the lines specified\n",
    "    in the additional_components_dict.\n",
    "\n",
    "    dfparams: output of earlier mcmc runs\n",
    "    dfog: original dataframe of spectra\n",
    "    additional_components_dict: a dictionary of the components to be added\n",
    "    num: number of iterations to run the mcmc chains\n",
    "    '''\n",
    "\n",
    "    # Create a copy of the input dataframe to avoid modifying the original\n",
    "    updated_df = dfparams.copy()\n",
    "    df_zero = dfog.copy()\n",
    "\n",
    "    # Sort by emission lines to add correct limits\n",
    "    updated_df.sort_values(by=['Line Name']).reset_index(drop=True)\n",
    "    df_zero.sort_values(by=['Line Name']).reset_index(drop=True)\n",
    "\n",
    "    # Remove error column\n",
    "    updated_df = updated_df.drop(['Parameter Errors'], axis=1)\n",
    "\n",
    "    # Borrow Min and Max limits\n",
    "    updated_df['Max Limits'] = df_zero['Max Limits']\n",
    "    updated_df['Min Limits'] = df_zero['Min Limits']\n",
    "\n",
    "    # Group the emission lines in the dataframe:\n",
    "    # grouped = updated_df.groupby('Line Name')\n",
    "    # updated_df = grouped.copy()\n",
    "    # grouped\n",
    "\n",
    "    # Iterate over the additional components dictionary\n",
    "\n",
    "    for line, components in add_components_1.items():\n",
    "      if (line in updated_df['Line Name'].values):\n",
    "        print(\"Adding a {} component for {}\".format(components[0], line))\n",
    "\n",
    "        # Find the last instance of the element\n",
    "        last_index = updated_df[updated_df['Line Name'] == line].index[-1]\n",
    "        # Add a new component\n",
    "        new_component_number = updated_df.loc[last_index, 'Component'] + 1\n",
    "\n",
    "        # Copy the same parameters, updating the initial amplitude guess\n",
    "        new_parameters = updated_df.loc[last_index, 'Parameters']\n",
    "        new_parameters = [new_parameters[0], new_parameters[1]/2, new_parameters[2]]\n",
    "\n",
    "        # Copy the limits from original dataframe\n",
    "        new_parameter_max = updated_df.loc[last_index, 'Max Limits']\n",
    "        new_parameter_max = [new_parameter_max[0], new_parameter_max[1]/2, new_parameter_max[2]]\n",
    "\n",
    "        new_parameter_min = updated_df.loc[last_index, 'Min Limits']\n",
    "        new_parameter_min = [new_parameter_min[0], new_parameter_min[1]/2, new_parameter_min[2]]\n",
    "\n",
    "        new_row = {'Line Name': line, 'Component': new_component_number, 'Model': components[0], 'Parameters': new_parameters, 'Max Limits': new_parameter_max, 'Min Limits': new_parameter_min}\n",
    "        updated_df = pd.concat([updated_df[:last_index + 1], pd.DataFrame([new_row]), updated_df[last_index + 1:]], ignore_index=True)\n",
    "\n",
    "      else:\n",
    "        print(f\"{line} not found in the Spectrum.\")\n",
    "\n",
    "    # Run MCMC\n",
    "    final_updated_df = spf.run_mcmc_chains(updated_df, spec0[:, 0], spec0[:, 1], spec0[:, 0], niter=num)\n",
    "\n",
    "\n",
    "    # Return the updated dataframe\n",
    "    return final_updated_df, updated_df\n"
   ],
   "outputs": [],
   "execution_count": null
  },
  {
   "cell_type": "code",
   "id": "76T_hOAXgGBr",
   "metadata": {
    "colab": {
     "background_save": true,
     "base_uri": "https://localhost:8080/"
    },
    "id": "76T_hOAXgGBr"
   },
   "source": [
    "add_components_1 = {\n",
    "\t'O-III,1':  ['Gaussian'],\n",
    "\t'O-III,2':  ['Gaussian'],\n",
    "\t'H-β':      ['Gaussian'],\n",
    "\t'H-α':      ['Gaussian'],\n",
    "\t'S-II,1':   ['Gaussian'],\n",
    "\t'S-II,2':   ['Lorentzian']\n",
    "\t}\n",
    "\n",
    "newdf, newdf0 = update_components(fit0, df0, add_components_1, num=5000)\n",
    "display(newdf)"
   ],
   "outputs": [],
   "execution_count": null
  },
  {
   "cell_type": "code",
   "id": "Z63MK7JytZXK",
   "metadata": {
    "colab": {
     "background_save": true,
     "base_uri": "https://localhost:8080/"
    },
    "id": "Z63MK7JytZXK"
   },
   "source": [
    "add_components_1 = {\n",
    "\t'O-III,1':  ['Gaussian'],\n",
    "\t'O-III,2':  ['Gaussian'],\n",
    "\t'H-β':      ['Gaussian'],\n",
    "\t'H-α':      ['Gaussian'],\n",
    "\t'S-II,1':   ['Gaussian'],\n",
    "\t'S-II,2':   ['Lorentzian']\n",
    "\t}\n",
    "\n",
    "secnewdf, secnewdf0 = update_components(newdf, newdf0, add_components_1, num=5000)\n",
    "display(secnewdf)"
   ],
   "outputs": [],
   "execution_count": null
  },
  {
   "cell_type": "code",
   "id": "XWKqCQCLdKyb",
   "metadata": {
    "colab": {
     "background_save": true,
     "base_uri": "https://localhost:8080/"
    },
    "id": "XWKqCQCLdKyb"
   },
   "source": [
    "plot0 = sps.spl_plot(spec0[:, 0], spec0[:, 1], spec0[:, 2], fit0, x_zoom=(6500, 6800)) #, x_zoom=(4800, 5050))\n",
    "plot1 = sps.spl_plot(spec0[:, 0], spec0[:, 1], spec0[:, 2], newdf, x_zoom=(6500, 6800)) #, x_zoom=(4800, 5050))\n",
    "plot2 = sps.spl_plot(spec0[:, 0], spec0[:, 1], spec0[:, 2], secnewdf, x_zoom=(6500, 6800)) #, x_zoom=(4800, 5050))"
   ],
   "outputs": [],
   "execution_count": null
  },
  {
   "cell_type": "code",
   "id": "v8C58CW-uucr",
   "metadata": {
    "executionInfo": {
     "elapsed": 4,
     "status": "ok",
     "timestamp": 1725521695229,
     "user": {
      "displayName": "Aksita Deo",
      "userId": "10398143209524373510"
     },
     "user_tz": -600
    },
    "id": "v8C58CW-uucr"
   },
   "source": [],
   "outputs": [],
   "execution_count": null
  },
  {
   "cell_type": "markdown",
   "id": "DLqaXi0WuoV1",
   "metadata": {
    "id": "DLqaXi0WuoV1"
   },
   "source": "#### A function to update components while recalculating minimum and maximum limits:\n"
  },
  {
   "cell_type": "code",
   "id": "bEfr0JD3thfo",
   "metadata": {
    "executionInfo": {
     "elapsed": 4,
     "status": "ok",
     "timestamp": 1725521695229,
     "user": {
      "displayName": "Aksita Deo",
      "userId": "10398143209524373510"
     },
     "user_tz": -600
    },
    "id": "bEfr0JD3thfo"
   },
   "source": [],
   "outputs": [],
   "execution_count": null
  },
  {
   "cell_type": "code",
   "id": "wAvKZB10zrKF",
   "metadata": {
    "executionInfo": {
     "elapsed": 5,
     "status": "ok",
     "timestamp": 1725521695230,
     "user": {
      "displayName": "Aksita Deo",
      "userId": "10398143209524373510"
     },
     "user_tz": -600
    },
    "id": "wAvKZB10zrKF"
   },
   "source": [
    "def minmaxlim(df):\n",
    "  min_limits = []\n",
    "  max_limits = []\n",
    "\n",
    "  for index, row in df.iterrows():\n",
    "\n",
    "      # Definitions\n",
    "      # standard deviation\n",
    "      sigma = row['Parameters'][2]\n",
    "      minsig = 2.0\n",
    "      maxsig = 1.5 * sigma\n",
    "      # wavelength\n",
    "      line_wavelength = row['Parameters'][0]\n",
    "      min_line = line_wavelength - 2 * sigma\n",
    "      max_line = line_wavelength + 2 * sigma\n",
    "      # amplitude\n",
    "      amplitude = row['Parameters'][1]\n",
    "      # components\n",
    "      ncomp = row['Component']\n",
    "\n",
    "      # Adjust maximum amplitude based on component number\n",
    "      # for the first component (which can have more than one or just one component afterwards)\n",
    "      if ncomp == 1:\n",
    "          # if there are multiple components for this line\n",
    "          if df[df['Line Name'] == row['Line Name']].shape[0] > 1:\n",
    "              amplitude_factor = 2\n",
    "          else:\n",
    "              amplitude_factor = 1\n",
    "      # for the second component\n",
    "      elif ncomp == 2:\n",
    "          amplitude_factor = 2\n",
    "      # for every other component\n",
    "      else:\n",
    "          amplitude_factor = 2**(ncomp-1)\n",
    "\n",
    "      # Calculate Limits\n",
    "      if row['Model'] == 'Gaussian':\n",
    "          max_i = [max_line, amplitude * amplitude_factor, maxsig]\n",
    "          min_i = [min_line, 0.                          , minsig]\n",
    "\n",
    "      elif row['Model'] == 'Lorentzian':\n",
    "          max_i = [max_line, amplitude * amplitude_factor, 1.11*maxsig]\n",
    "          min_i = [min_line, 0.                          , 1.11*minsig]\n",
    "\n",
    "      elif row['Model'] == 'Voigt':\n",
    "          max_i = [max_line, amplitude * amplitude_factor, maxsig, 1.11*maxsig]\n",
    "          min_i = [min_line, 0.                          , minsig, 1.11*minsig]\n",
    "\n",
    "      elif row['Model'] == 'Continuum':\n",
    "          max_i = [np.inf, np.inf, np.inf]\n",
    "          min_i = [-np.inf, 0    , -np.inf]\n",
    "      else:\n",
    "          print(\"Model not defined.\")\n",
    "\n",
    "      min_limits.append(min_i)\n",
    "      max_limits.append(max_i)\n",
    "\n",
    "  return min_limits, max_limits"
   ],
   "outputs": [],
   "execution_count": null
  },
  {
   "cell_type": "code",
   "id": "b-uSL2wHuzcr",
   "metadata": {
    "executionInfo": {
     "elapsed": 4,
     "status": "ok",
     "timestamp": 1725521695230,
     "user": {
      "displayName": "Aksita Deo",
      "userId": "10398143209524373510"
     },
     "user_tz": -600
    },
    "id": "b-uSL2wHuzcr"
   },
   "source": [
    "def update_components(dfparams, additional_components_dict, num):\n",
    "    '''\n",
    "    This function takes a dataframe of a given emission line spectral model and\n",
    "    updates it with additional components, in consistency with the lines specified\n",
    "    in the additional_components_dict.\n",
    "\n",
    "    dfparams: output of earlier mcmc runs\n",
    "    additional_components_dict: a dictionary of the components to be added\n",
    "    num: number of iterations to run the mcmc chains\n",
    "    '''\n",
    "\n",
    "    # Create a copy of the input dataframe to avoid modifying the original\n",
    "    updated_df = dfparams.copy()\n",
    "\n",
    "    # Remove error column\n",
    "    updated_df = updated_df.drop(['Parameter Errors'], axis=1)\n",
    "\n",
    "    # Iterate over the additional components dictionary\n",
    "\n",
    "    for line, components in add_components_1.items():\n",
    "      if (line in updated_df['Line Name'].values):\n",
    "        print(\"Adding a {} component for {}\".format(components[0], line))\n",
    "\n",
    "        # Find the last instance of the element\n",
    "        last_index = updated_df[updated_df['Line Name'] == line].index[-1]\n",
    "        # Add a new component\n",
    "        new_component_number = updated_df.loc[last_index, 'Component'] + 1\n",
    "\n",
    "        # Copy the same parameters, updating the initial amplitude guess\n",
    "        new_parameters = updated_df.loc[last_index, 'Parameters']\n",
    "        new_parameters = [new_parameters[0], new_parameters[1]/2, new_parameters[2]]\n",
    "\n",
    "        new_row = {'Line Name': line, 'Component': new_component_number, 'Model': components[0], 'Parameters': new_parameters}\n",
    "        updated_df = pd.concat([updated_df[:last_index + 1], pd.DataFrame([new_row]), updated_df[last_index + 1:]], ignore_index=True)\n",
    "\n",
    "      else:\n",
    "        print(f\"{line} not found in the Spectrum.\")\n",
    "\n",
    "    # Calculate limits\n",
    "\n",
    "    min_limits, max_limits = minmaxlim(updated_df)\n",
    "\n",
    "    updated_df['Max Limits'] = pd.Series(max_limits)\n",
    "    updated_df['Min Limits'] = pd.Series(min_limits)\n",
    "\n",
    "    # Run MCMC\n",
    "    final_updated_df = spf.run_mcmc_chains(updated_df, spec0[:, 0], spec0[:, 1], spec0[:, 0], niter=num)\n",
    "\n",
    "    # Return the updated dataframe\n",
    "    return final_updated_df\n"
   ],
   "outputs": [],
   "execution_count": null
  },
  {
   "cell_type": "code",
   "id": "eba758223c5f2f58",
   "metadata": {
    "colab": {
     "background_save": true,
     "base_uri": "https://localhost:8080/"
    },
    "id": "eba758223c5f2f58"
   },
   "source": [
    "add_components_1 = {\n",
    "\t'O-III,1':  ['Gaussian'],\n",
    "\t'O-III,2':  ['Gaussian'],\n",
    "\t'H-β':      ['Gaussian'],\n",
    "\t'H-α':      ['Gaussian'],\n",
    "\t'S-II,1':   ['Gaussian'],\n",
    "\t'S-II,2':   ['Lorentzian']\n",
    "\t}\n",
    "\n",
    "newdf = update_components(fit0, add_components_1, num=100)\n",
    "display(newdf)"
   ],
   "outputs": [],
   "execution_count": null
  },
  {
   "cell_type": "code",
   "id": "oAv-XqTmvw8I",
   "metadata": {
    "colab": {
     "background_save": true,
     "base_uri": "https://localhost:8080/"
    },
    "id": "oAv-XqTmvw8I"
   },
   "source": [
    "newdf2 = update_components(newdf, add_components_1, num=100)\n",
    "display(newdf2)"
   ],
   "outputs": [],
   "execution_count": null
  },
  {
   "cell_type": "code",
   "id": "1cb765f057ec6c4b",
   "metadata": {
    "colab": {
     "background_save": true,
     "base_uri": "https://localhost:8080/"
    },
    "id": "1cb765f057ec6c4b"
   },
   "source": [
    "plot0 = sps.spl_plot(spec0[:, 0], spec0[:, 1], spec0[:, 2], fit0, x_zoom=(6500, 6800)) #, x_zoom=(4800, 5050))\n",
    "plot1 = sps.spl_plot(spec0[:, 0], spec0[:, 1], spec0[:, 2], newdf, x_zoom=(6500, 6800))\n",
    "plot2 = sps.spl_plot(spec0[:, 0], spec0[:, 1], spec0[:, 2], newdf2, x_zoom=(6500, 6800))"
   ],
   "outputs": [],
   "execution_count": null
  },
  {
   "cell_type": "code",
   "id": "BvRx_bdtVedm",
   "metadata": {
    "executionInfo": {
     "elapsed": 9,
     "status": "ok",
     "timestamp": 1725521696673,
     "user": {
      "displayName": "Aksita Deo",
      "userId": "10398143209524373510"
     },
     "user_tz": -600
    },
    "id": "BvRx_bdtVedm"
   },
   "source": [],
   "outputs": [],
   "execution_count": null
  },
  {
   "cell_type": "markdown",
   "id": "RtoAQ5ZQWFP0",
   "metadata": {
    "id": "RtoAQ5ZQWFP0"
   },
   "source": [
    "### Remarks for this week for 19 - 23 August\n",
    "\n",
    "Hi Aksita,\n",
    "I've already uploaded a set of many AGN spectra, in the route inside the new_spl folder:\n",
    "\n",
    "new_spl/input_data\n",
    "\n",
    "please consider from now the paths accordingly. This folder contain:\n",
    "* MaNGA integrated (single) spectra; the nomenclature for this files is:\n",
    "_manga-plate-ifu-*Reff*.fits_. These are integrating at different apertures, that is OK, we are seeking to adapt the code to properly work on an heterogeneous sample of spectra.\n",
    "* PAQS simulated spectra. These are simulated quasar spectra produced to calibrate the 4MOST (a survey still to be launched) reduction pipeline. The nomenclature of these files is: _PAQS_OBJECTID_LJ1.fits_\n",
    "* There is one complete manga cube: _manga-11831-12702-LOGCUBE-SPX-MILESHC-MASTARSSP.fits_\n",
    "you can explore this fits cube either with a tool like qfitsview or directly with python, with the astropy.io.fits package (which I recommend)\n",
    "\n",
    "By now, I would ask you to:\n",
    "\n",
    "* Explore (that is; open, extract, and plot) these spectra.\n",
    "* Work on a function to iterate over a list of files, open the spectra, and store them in a common object with identifiers (maybe a dictionary containing SNR, spectra, redshift) to afterwards apply the process we have worked on. This execution might be useful at once because that might be the most efficient way to proceed for complete datacubes.\n",
    "* Calculate redshift using [OIII] or determine systemic redshift with other elements, and SNR\n",
    "\n",
    "Start diving into this for this week, meanwhile I review and translate into a script what we have done until now.\n",
    "\n",
    "Cheers, and see you on Wednesday!\n",
    "\n"
   ]
  },
  {
   "cell_type": "markdown",
   "id": "4I0mvy5sxlpD",
   "metadata": {
    "id": "4I0mvy5sxlpD"
   },
   "source": [
    "###One MANGA Cube"
   ]
  },
  {
   "cell_type": "code",
   "id": "gw2ricRrtFmU",
   "metadata": {
    "colab": {
     "background_save": true,
     "base_uri": "https://localhost:8080/"
    },
    "id": "gw2ricRrtFmU"
   },
   "source": [
    "import ipywidgets as widgets\n",
    "from IPython.display import display"
   ],
   "outputs": [],
   "execution_count": null
  },
  {
   "cell_type": "code",
   "id": "fS9jhvSQh5iz",
   "metadata": {
    "colab": {
     "background_save": true,
     "base_uri": "https://localhost:8080/"
    },
    "id": "fS9jhvSQh5iz"
   },
   "source": [
    "fitsfile = ('/Users/aksitadeo/PycharmProjects/spelfig_aksita/input/manga-11831-12702-LOGCUBE-SPX-MILESHC-MASTARSSP.fits.gz')\n",
    "hdu_file = fits.open(fitsfile)\n",
    "\n",
    "hdu_file.info()"
   ],
   "outputs": [],
   "execution_count": null
  },
  {
   "cell_type": "code",
   "id": "qcDHbxvZt2iS",
   "metadata": {
    "colab": {
     "background_save": true,
     "base_uri": "https://localhost:8080/"
    },
    "id": "qcDHbxvZt2iS"
   },
   "source": [
    "mangaflux = hdu_file['FLUX'].data\n",
    "mangawave = hdu_file['WAVE'].data\n",
    "mangaerr = hdu_file['IVAR'].data"
   ],
   "outputs": [],
   "execution_count": null
  },
  {
   "cell_type": "code",
   "id": "GoZGp56LsYpZ",
   "metadata": {
    "colab": {
     "background_save": true,
     "base_uri": "https://localhost:8080/"
    },
    "id": "GoZGp56LsYpZ"
   },
   "source": [
    "def visualise_cube_slice(wavelength_index):\n",
    "    image_slice = mangaflux[wavelength_index, :, :]\n",
    "    plt.imshow(image_slice, cmap='viridis')\n",
    "    plt.title(f\"Heatmap for Wavelength Index {wavelength_index}\")\n",
    "    plt.xlabel(\"x pix\")\n",
    "    plt.ylabel(\"y pix\")\n",
    "    plt.colorbar()\n",
    "    plt.show()\n",
    "\n",
    "# slider widget to select the wavelength index\n",
    "wavelength_slider = widgets.IntSlider(min=0, max=mangaflux.shape[0]-1, value=0, description='WV')\n",
    "\n",
    "# connect the slider to the cube visualiser function\n",
    "widgets.interact(visualise_cube_slice, wavelength_index=wavelength_slider);"
   ],
   "outputs": [],
   "execution_count": null
  },
  {
   "cell_type": "code",
   "id": "B2sWyWI5uKZn",
   "metadata": {
    "colab": {
     "background_save": true,
     "base_uri": "https://localhost:8080/"
    },
    "id": "B2sWyWI5uKZn"
   },
   "source": [
    "def visualise_data_slice(xpix,ypix):\n",
    "    data_slice = mangaflux[:, ypix, xpix]\n",
    "    plt.plot(data_slice)\n",
    "    plt.title(\"Spectrum for Pixel [{}, {}]\".format(xpix,ypix))\n",
    "    plt.xlabel(\"X pixel\")\n",
    "    plt.ylabel(\"Y pixel\")\n",
    "    plt.show()\n",
    "\n",
    "# slider widget to select the x and y pixel index\n",
    "ex = widgets.IntSlider(min=0, max=mangaflux.shape[1]-1, value=0, description='X')\n",
    "why = widgets.IntSlider(min=0, max=mangaflux.shape[2]-1, value=0, description='Y')\n",
    "\n",
    "\n",
    "# connect the slider to the flux spectra function\n",
    "widgets.interact(visualise_data_slice, xpix=ex,ypix=why);"
   ],
   "outputs": [],
   "execution_count": null
  },
  {
   "cell_type": "code",
   "id": "aSvHkcKNh5lm",
   "metadata": {
    "colab": {
     "background_save": true,
     "base_uri": "https://localhost:8080/"
    },
    "id": "aSvHkcKNh5lm"
   },
   "source": [
    "# for further investigation\n",
    "\n",
    "xpix = 30\n",
    "ypix = 40\n",
    "\n",
    "plt.plot(mangawave, mangaflux[:,xpix,ypix])\n",
    "plt.show()"
   ],
   "outputs": [],
   "execution_count": null
  },
  {
   "cell_type": "markdown",
   "id": "wR6EZjuvzoB3",
   "metadata": {
    "id": "wR6EZjuvzoB3"
   },
   "source": [
    "### One MANGA file"
   ]
  },
  {
   "cell_type": "code",
   "id": "6dt14cidznFG",
   "metadata": {
    "colab": {
     "background_save": true,
     "base_uri": "https://localhost:8080/"
    },
    "id": "6dt14cidznFG"
   },
   "source": [
    "fitsfile = ('/Users/aksitadeo/PycharmProjects/spelfig_aksita/input/manga-7815-6104_Reff_spec.fits')\n",
    "hdu_file = fits.open(fitsfile)\n",
    "\n",
    "hdu_file.info()"
   ],
   "outputs": [],
   "execution_count": null
  },
  {
   "cell_type": "code",
   "id": "B1efv_9DzsuI",
   "metadata": {
    "colab": {
     "background_save": true,
     "base_uri": "https://localhost:8080/"
    },
    "id": "B1efv_9DzsuI"
   },
   "source": [
    "data = hdu_file[1].data\n",
    "data"
   ],
   "outputs": [],
   "execution_count": null
  },
  {
   "cell_type": "code",
   "id": "NIKqrk0hmCKk",
   "metadata": {
    "colab": {
     "background_save": true,
     "base_uri": "https://localhost:8080/"
    },
    "id": "NIKqrk0hmCKk"
   },
   "source": [
    "hdu_file[1].data['emlines']"
   ],
   "outputs": [],
   "execution_count": null
  },
  {
   "cell_type": "code",
   "id": "MXZuLxlO07Iq",
   "metadata": {
    "colab": {
     "background_save": true,
     "base_uri": "https://localhost:8080/"
    },
    "id": "MXZuLxlO07Iq"
   },
   "source": [
    "manga_wave = data['wavelength']\n",
    "manga_flux = data['flux']\n",
    "manga_error = data['flux_error']\n",
    "\n",
    "print(\"Wavelength has shape \", len(manga_wave))\n",
    "print(\"Flux has shape \", len(manga_flux))\n",
    "print(\"Error has shape \", len(manga_error))"
   ],
   "outputs": [],
   "execution_count": null
  },
  {
   "cell_type": "code",
   "id": "OvLeG4ku1FLY",
   "metadata": {
    "colab": {
     "background_save": true,
     "base_uri": "https://localhost:8080/"
    },
    "id": "OvLeG4ku1FLY"
   },
   "source": [
    "plt.plot(manga_wave, manga_flux, label ='flux')\n",
    "plt.plot(manga_wave,hdu_file[1].data['emlines'],label ='lines')\n",
    "\n",
    "plt.legend()\n",
    "plt.show()"
   ],
   "outputs": [],
   "execution_count": null
  },
  {
   "cell_type": "code",
   "id": "yarlohmNkuC5",
   "metadata": {
    "colab": {
     "background_save": true,
     "base_uri": "https://localhost:8080/"
    },
    "id": "yarlohmNkuC5"
   },
   "source": [
    "fitsfile = ('/Users/aksitadeo/PycharmProjects/spelfig_aksita/input/manga-9000-1901-0.5Reff.fits')\n",
    "hdu_file = fits.open(fitsfile)\n",
    "\n",
    "hdu_file.info()"
   ],
   "outputs": [],
   "execution_count": null
  },
  {
   "cell_type": "code",
   "id": "AKUsCKIils18",
   "metadata": {
    "colab": {
     "background_save": true,
     "base_uri": "https://localhost:8080/"
    },
    "id": "AKUsCKIils18"
   },
   "source": [
    "data = hdu_file[1].data\n",
    "data"
   ],
   "outputs": [],
   "execution_count": null
  },
  {
   "cell_type": "code",
   "id": "034aStOqlwFu",
   "metadata": {
    "colab": {
     "background_save": true,
     "base_uri": "https://localhost:8080/"
    },
    "id": "034aStOqlwFu"
   },
   "source": [
    "plt.plot(hdu_file[1].data['wavelength'], hdu_file[1].data['flux_lines'])\n",
    "plt.show()"
   ],
   "outputs": [],
   "execution_count": null
  },
  {
   "cell_type": "markdown",
   "id": "7546cf5d339f4add",
   "metadata": {},
   "source": []
  },
  {
   "cell_type": "code",
   "id": "KGXcLAq2NzeW",
   "metadata": {
    "colab": {
     "background_save": true,
     "base_uri": "https://localhost:8080/"
    },
    "id": "KGXcLAq2NzeW"
   },
   "source": [
    "index5000 = np.argmin(np.abs(hdu_file[1].data['wavelength'] - 5000))\n",
    "print(index5000)"
   ],
   "outputs": [],
   "execution_count": null
  },
  {
   "cell_type": "markdown",
   "id": "GsomH8Fvxoxl",
   "metadata": {
    "id": "GsomH8Fvxoxl"
   },
   "source": [
    "### PAQS"
   ]
  },
  {
   "cell_type": "code",
   "id": "l7F3GvsbxtqB",
   "metadata": {
    "colab": {
     "background_save": true,
     "base_uri": "https://localhost:8080/"
    },
    "id": "l7F3GvsbxtqB"
   },
   "source": [
    "fitsfile = ('/Users/aksitadeo/PycharmProjects/spelfig_aksita/input/PAQS_000439.86-271539.36_LJ1.fits')\n",
    "hdu_file = fits.open(fitsfile)\n",
    "\n",
    "hdu_file.info()"
   ],
   "outputs": [],
   "execution_count": null
  },
  {
   "cell_type": "code",
   "id": "KnhxSbTWyOru",
   "metadata": {
    "colab": {
     "background_save": true,
     "base_uri": "https://localhost:8080/"
    },
    "id": "KnhxSbTWyOru"
   },
   "source": [
    "data = hdu_file[1].data\n",
    "data"
   ],
   "outputs": [],
   "execution_count": null
  },
  {
   "cell_type": "code",
   "id": "ozqQEV9SyO-Z",
   "metadata": {
    "colab": {
     "background_save": true,
     "base_uri": "https://localhost:8080/"
    },
    "id": "ozqQEV9SyO-Z"
   },
   "source": [
    "paqs_wave = data['WAVE']\n",
    "paqs_flux = data['FLUX']\n",
    "paqs_error = data['ERR_FLUX']\n",
    "\n",
    "print(\"Wavelength has shape \", len(paqs_wave))\n",
    "print(\"Flux has shape \", len(paqs_flux))\n",
    "print(\"Error has shape \", len(paqs_error))"
   ],
   "outputs": [],
   "execution_count": null
  },
  {
   "cell_type": "code",
   "id": "Ov678q-gyV1R",
   "metadata": {
    "colab": {
     "background_save": true,
     "base_uri": "https://localhost:8080/"
    },
    "id": "Ov678q-gyV1R"
   },
   "source": [
    "plt.plot(paqs_wave[0], paqs_flux[0]/max(paqs_flux[0]), label ='flux')\n",
    "\n",
    "plt.show()"
   ],
   "outputs": [],
   "execution_count": null
  },
  {
   "cell_type": "markdown",
   "id": "j5ZMU_N_xp8y",
   "metadata": {
    "id": "j5ZMU_N_xp8y"
   },
   "source": [
    "### Multiple files"
   ]
  },
  {
   "cell_type": "markdown",
   "id": "dT3kxuyjwUyo",
   "metadata": {
    "id": "dT3kxuyjwUyo"
   },
   "source": []
  },
  {
   "cell_type": "code",
   "id": "VhhcctsoyV4L",
   "metadata": {
    "executionInfo": {
     "elapsed": 403,
     "status": "ok",
     "timestamp": 1725521708795,
     "user": {
      "displayName": "Aksita Deo",
      "userId": "10398143209524373510"
     },
     "user_tz": -600
    },
    "id": "VhhcctsoyV4L"
   },
   "source": [
    "def extract_data(array):\n",
    "    \"\"\"\n",
    "    Extracts data from multidimensional arrays\n",
    "    \"\"\"\n",
    "\n",
    "    if array.ndim == 1:\n",
    "        return array\n",
    "    elif array.ndim == 2:\n",
    "        return array.flatten()\n",
    "    else:\n",
    "        raise ValueError(\"Unsupported array dimension: {}\".format(array.ndim))"
   ],
   "outputs": [],
   "execution_count": null
  },
  {
   "cell_type": "code",
   "id": "Nigjoy7hsZ0z",
   "metadata": {
    "executionInfo": {
     "elapsed": 3,
     "status": "ok",
     "timestamp": 1725521708795,
     "user": {
      "displayName": "Aksita Deo",
      "userId": "10398143209524373510"
     },
     "user_tz": -600
    },
    "id": "Nigjoy7hsZ0z"
   },
   "source": [
    "def extract_astronomical_data(filename, verbose=True, wavelength_name=None, flux_name=None, error_name=None):\n",
    "    \"\"\"\n",
    "    Extracts wavelength, flux, and error (when applicable) from a FITS file,\n",
    "    handling variations in keyword syntax and layout across surveys.\n",
    "\n",
    "    Params:\n",
    "\n",
    "\n",
    "    Future edits: Add dictionary of keywords from public data surveys? Or maybe a dictionary where user\n",
    "    just has to define what survey it's from? If keyword not found and user knows keyword, maybe change\n",
    "    function to have the option to add keyword? Possibly add 3D - 1D data analysis\n",
    "    \"\"\"\n",
    "\n",
    "    try:\n",
    "        with fits.open(filename) as hdul:\n",
    "\n",
    "            # Search for keywords\n",
    "            potential_keywords = ['wavelength', 'WAVE', 'lambda']\n",
    "            for keyword in potential_keywords:\n",
    "                if keyword in hdul[1].columns.names:\n",
    "                    wavelength_name = keyword\n",
    "                    break\n",
    "\n",
    "            potential_keywords = ['flux', 'FLUX', 'f_lambda', 'flux_lines','total flux']\n",
    "            for keyword in potential_keywords:\n",
    "                if keyword in hdul[1].columns.names:\n",
    "                    flux_name = keyword\n",
    "                    break\n",
    "\n",
    "            potential_keywords = ['error', 'ERR', 'flux_error', 'ERR_FLUX','flux error']\n",
    "            for keyword in potential_keywords:\n",
    "                if keyword in hdul[1].columns.names:\n",
    "                    error_name = keyword\n",
    "                    break\n",
    "\n",
    "            # Define arrays\n",
    "            if wavelength_name:\n",
    "                wave = hdul[1].data[wavelength_name]\n",
    "            else:\n",
    "                if verbose:\n",
    "                    print(\"Warning: Keyword for wavelength not found.\")\n",
    "                pass\n",
    "\n",
    "            if flux_name:\n",
    "                flux = hdul[1].data[flux_name]\n",
    "            else:\n",
    "                if verbose:\n",
    "                    print(\"Warning: Keyword for flux not found.\")\n",
    "                pass\n",
    "\n",
    "            if error_name:\n",
    "                err = hdul[1].data[error_name]\n",
    "            else:\n",
    "                if verbose:\n",
    "                    print(\"Warning: Keyword for error not found.\")\n",
    "                pass\n",
    "\n",
    "            # Create spectra with same form as Jose Luis\n",
    "\n",
    "            wave = extract_data(wave)\n",
    "            flux = extract_data(flux)\n",
    "            err = extract_data(err)\n",
    "\n",
    "            spec = np.array([wave, flux, err]).T\n",
    "\n",
    "            return spec\n",
    "\n",
    "    except Exception as e:\n",
    "        print(f\"Error processing {filename}: {e}\")\n",
    "        return None"
   ],
   "outputs": [],
   "execution_count": null
  },
  {
   "cell_type": "markdown",
   "id": "GgTUZaFZwcIl",
   "metadata": {
    "id": "GgTUZaFZwcIl"
   },
   "source": [
    "######Extract Redshift#### Extract SNR"
   ]
  },
  {
   "cell_type": "code",
   "id": "D5hPV0LCM3ty",
   "metadata": {
    "executionInfo": {
     "elapsed": 3,
     "status": "ok",
     "timestamp": 1725521708795,
     "user": {
      "displayName": "Aksita Deo",
      "userId": "10398143209524373510"
     },
     "user_tz": -600
    },
    "id": "D5hPV0LCM3ty"
   },
   "source": [
    "SNR_emission_lines = {\n",
    "\t'He-II,1': {'wavelength':[3202.15]},\n",
    "\t'He-II,2': {'wavelength':[4685.74]},\n",
    "\t'Ne-V,1':  {'wavelength':[3345.81]},\n",
    "\t'Ne-V,2':  {'wavelength':[3425.81]},\n",
    "\t'O-II,1':  {'wavelength':[3726.03]},\n",
    "\t'O-II,2':  {'wavelength':[3728.73]},\n",
    "\t'Ne-III,1': {'wavelength':[3868.69]},\n",
    "\t'Ne-III,2': {'wavelength':[3967.40]},\n",
    "\t'H-ζ':    {'wavelength':[3889.05]},\n",
    "\t'H-ε':    {'wavelength':[3970.07]},\n",
    "\t'H-δ':    {'wavelength':[4101.73]},\n",
    "\t'H-γ':    {'wavelength':[4340.46]},\n",
    "\t'O-III,0':  {'wavelength':[4363.15]},\n",
    "\t'O-III,1':  {'wavelength':[4958.83]},\n",
    "\t'O-III,2':  {'wavelength':[5006.77]},\n",
    "\t'Ar-IV,1':  {'wavelength':[4711.30]},\n",
    "\t'Ar-IV,2':  {'wavelength':[4740.10]},\n",
    "\t'H-β':     {'wavelength':[4861.32]},\n",
    "\t'N-I,1':    {'wavelength':[5197.90]},\n",
    "\t'N-I,2':    {'wavelength':[5200.39]},\n",
    "\t'He-I':   {'wavelength':[5875.60]},\n",
    "\t'O-I,1':   {'wavelength':[6300.20]},\n",
    "\t'O-I,2':   {'wavelength':[6363.67]},\n",
    "\t'N-II,1':   {'wavelength':[6547.96]},\n",
    "\t'N-II,2':   {'wavelength':[6583.34]},\n",
    "\t'H-α':     {'wavelength':[6562.80]},\n",
    "\t'S-II,1':  {'wavelength': [6716.31]},\n",
    "\t'S-II,2':   {'wavelength':[6730.68]},\n",
    "\t'Ar-III': {'wavelength':[7135.67]},\n",
    "\t}"
   ],
   "outputs": [],
   "execution_count": null
  },
  {
   "cell_type": "code",
   "id": "kwd9bTpbXMT2",
   "metadata": {
    "colab": {
     "background_save": true,
     "base_uri": "https://localhost:8080/"
    },
    "id": "kwd9bTpbXMT2"
   },
   "source": [
    "from scipy.signal import find_peaks"
   ],
   "outputs": [],
   "execution_count": null
  },
  {
   "cell_type": "code",
   "id": "-2Vc3ekX3UXZ",
   "metadata": {
    "executionInfo": {
     "elapsed": 22,
     "status": "ok",
     "timestamp": 1725521710066,
     "user": {
      "displayName": "Aksita Deo",
      "userId": "10398143209524373510"
     },
     "user_tz": -600
    },
    "id": "-2Vc3ekX3UXZ"
   },
   "source": [
    "# UNCOMMENT AFTER TESTING\n",
    "\n",
    "def calculate_redshift(wavelength, flux, emission_lines):\n",
    "\n",
    "    # Find emission line peaks\n",
    "    peaks, _ = find_peaks(flux/max(flux), height=0.4)                                      # ADJUST\n",
    "    wavepeaks = np.array(wavelength[peaks])\n",
    "\n",
    "    # Generate a grid of redshifts\n",
    "    redshifts = np.arange(0, 3.5, 0.01)\n",
    "\n",
    "    # Calculate chi-squared values for each redshift\n",
    "    chi_squared_values = []\n",
    "\n",
    "    for redshift in redshifts:\n",
    "\n",
    "        # Deredshift the spectrum\n",
    "        deredshifted_wavelengths = wavepeaks / (1 + redshift)\n",
    "\n",
    "        # Calculate chi-squared for each emission line\n",
    "        chi_squared_line = []\n",
    "\n",
    "        for line in emission_lines:\n",
    "            # Define emission line\n",
    "            rest_wavelength = emission_lines[line]['wavelength'][0]\n",
    "\n",
    "            # Find the index of the closest value in the array\n",
    "            closest_index = np.argmin(np.abs(deredshifted_wavelengths - rest_wavelength))\n",
    "\n",
    "            # Get the closest value and the difference\n",
    "            closest_value = deredshifted_wavelengths[closest_index]\n",
    "            difference = np.abs(closest_value - rest_wavelength)\n",
    "\n",
    "            chi_squared_line.append(difference)\n",
    "\n",
    "        # Calculate total chi-squared for the redshift\n",
    "        chi_squared_total = np.sum(chi_squared_line)\n",
    "        chi_squared_values.append(chi_squared_total)\n",
    "\n",
    "\n",
    "    # Find the redshift with the minimum chi-squared value\n",
    "    best_redshift_index = np.argmin(chi_squared_values)\n",
    "    best_redshift = redshifts[best_redshift_index]\n",
    "    best_chi_squared = chi_squared_values[best_redshift_index]\n",
    "\n",
    "    deredshifted_wavelengths1 = wavelength / (1 + best_redshift)\n",
    "\n",
    "    return best_redshift, best_chi_squared"
   ],
   "outputs": [],
   "execution_count": null
  },
  {
   "cell_type": "code",
   "id": "MtpK21FvU-v0",
   "metadata": {
    "colab": {
     "background_save": true,
     "base_uri": "https://localhost:8080/"
    },
    "id": "MtpK21FvU-v0"
   },
   "source": [
    "redshift,_ = calculate_redshift(paqs_wave[0], paqs_flux[0], SNR_emission_lines)\n",
    "if redshift is not None:\n",
    "    print(f\"Calculated redshift: {redshift}\")\n",
    "else:\n",
    "    print(\"No redshift could be calculated.\")"
   ],
   "outputs": [],
   "execution_count": null
  },
  {
   "cell_type": "code",
   "id": "ZAVCRwwkQQcn",
   "metadata": {
    "colab": {
     "background_save": true,
     "base_uri": "https://localhost:8080/"
    },
    "id": "ZAVCRwwkQQcn"
   },
   "source": [
    "plt.plot(paqs_wave[0], paqs_flux[0], label ='original',color = 'red',alpha= 0.5)\n",
    "plt.plot(paqs_wave[0]/(1+redshift), paqs_flux[0], label ='de-red',color='blue', alpha = 1)\n",
    "\n",
    "# Plot vertical lines for emission lines\n",
    "for line_name, line_data in SNR_emission_lines.items():\n",
    "    for rest_wavelength in line_data['wavelength']:\n",
    "        plt.vlines(rest_wavelength,ymin=min(paqs_flux[0]),ymax=max(paqs_flux[0]), color='black', linestyle='-.',alpha = 0.8)\n",
    "        # plt.axvline(rest_wavelength, color='black', linestyle='--',alpha = 0.2)\n",
    "\n",
    "plt.xlabel('Wavelength')\n",
    "plt.ylabel('Flux')\n",
    "\n",
    "plt.legend()\n",
    "plt.show()"
   ],
   "outputs": [],
   "execution_count": null
  },
  {
   "cell_type": "code",
   "id": "8hun_CekVO3t",
   "metadata": {
    "colab": {
     "background_save": true,
     "base_uri": "https://localhost:8080/"
    },
    "id": "8hun_CekVO3t"
   },
   "source": [
    "redshift,_ = calculate_redshift(manga_wave, manga_flux, SNR_emission_lines)\n",
    "if redshift is not None:\n",
    "    print(f\"Calculated redshift: {redshift}\")\n",
    "else:\n",
    "    print(\"No redshift could be calculated.\")"
   ],
   "outputs": [],
   "execution_count": null
  },
  {
   "cell_type": "code",
   "id": "vNJCdO1JO33V",
   "metadata": {
    "colab": {
     "background_save": true,
     "base_uri": "https://localhost:8080/"
    },
    "id": "vNJCdO1JO33V"
   },
   "source": [
    "plt.plot(manga_wave, manga_flux, label ='observed',color = 'red',alpha= 0.5)\n",
    "plt.plot(manga_wave/(1+redshift), manga_flux, label ='rest',color='blue', alpha = 1)\n",
    "\n",
    "# Plot vertical lines for emission lines\n",
    "for line_name, line_data in SNR_emission_lines.items():\n",
    "    for rest_wavelength in line_data['wavelength']:\n",
    "        plt.vlines(rest_wavelength,ymin=min(manga_flux),ymax=max(manga_flux), color='black', linestyle='-.',alpha = 0.8)\n",
    "        # plt.axvline(rest_wavelength, color='black', linestyle='--',alpha = 0.2)\n",
    "\n",
    "plt.xlabel('Wavelength')\n",
    "plt.ylabel('Flux')\n",
    "\n",
    "plt.legend()\n",
    "plt.show()"
   ],
   "outputs": [],
   "execution_count": null
  },
  {
   "cell_type": "code",
   "id": "ztUlMANQkset",
   "metadata": {
    "executionInfo": {
     "elapsed": 3,
     "status": "ok",
     "timestamp": 1725521712174,
     "user": {
      "displayName": "Aksita Deo",
      "userId": "10398143209524373510"
     },
     "user_tz": -600
    },
    "id": "ztUlMANQkset"
   },
   "source": [
    "SNR_emission_lines = {\n",
    "\t'He-II,1': {'wavelength':[3202.15]},\n",
    "\t'He-II,2': {'wavelength':[4685.74]},\n",
    "\t'Ne-V,1':  {'wavelength':[3345.81]},\n",
    "\t'Ne-V,2':  {'wavelength':[3425.81]},\n",
    "\t'O-II,1':  {'wavelength':[3726.03]},\n",
    "\t'O-II,2':  {'wavelength':[3728.73]},\n",
    "\t'Ne-III,1': {'wavelength':[3868.69]},\n",
    "\t'Ne-III,2': {'wavelength':[3967.40]},\n",
    "\t'H-ζ':    {'wavelength':[3889.05]},\n",
    "\t'H-ε':    {'wavelength':[3970.07]},\n",
    "\t'H-δ':    {'wavelength':[4101.73]},\n",
    "\t'H-γ':    {'wavelength':[4340.46]},\n",
    "\t'O-III,0':  {'wavelength':[4363.15]},\n",
    "\t'O-III,1':  {'wavelength':[4958.83]},\n",
    "\t'O-III,2':  {'wavelength':[5006.77]},\n",
    "\t'Ar-IV,1':  {'wavelength':[4711.30]},\n",
    "\t'Ar-IV,2':  {'wavelength':[4740.10]},\n",
    "\t'H-β':     {'wavelength':[4861.32]},\n",
    "\t'N-I,1':    {'wavelength':[5197.90]},\n",
    "\t'N-I,2':    {'wavelength':[5200.39]},\n",
    "\t'He-I':   {'wavelength':[5875.60]},\n",
    "\t'O-I,1':   {'wavelength':[6300.20]},\n",
    "\t'O-I,2':   {'wavelength':[6363.67]},\n",
    "\t'N-II,1':   {'wavelength':[6547.96]},\n",
    "\t'N-II,2':   {'wavelength':[6583.34]},\n",
    "\t'H-α':     {'wavelength':[6562.80]},\n",
    "\t'S-II,1':  {'wavelength': [6716.31]},\n",
    "\t'S-II,2':   {'wavelength':[6730.68]},\n",
    "\t'Ar-III': {'wavelength':[7135.67]},\n",
    "\t'O VI': {'wavelength': [1033.82]},\n",
    "\t'Ly-alpha': {'wavelength': [1215.24]},\n",
    "\t'N V': {'wavelength': [1305.53]},\n",
    "\t'Si IV + O IV': {'wavelength': [1549.48]},\n",
    "\t'C IV': {'wavelength': [1640.40]},\n",
    "\t'C III': {'wavelength': [2326.00]},\n",
    "\t'Mg II': {'wavelength': [3346.79]},\n",
    "\t}"
   ],
   "outputs": [],
   "execution_count": null
  },
  {
   "cell_type": "code",
   "id": "BYyTlr59Mtci",
   "metadata": {
    "executionInfo": {
     "elapsed": 3,
     "status": "ok",
     "timestamp": 1725521712175,
     "user": {
      "displayName": "Aksita Deo",
      "userId": "10398143209524373510"
     },
     "user_tz": -600
    },
    "id": "BYyTlr59Mtci"
   },
   "source": [
    "# UNCOMMENT AFTER TESTING\n",
    "\n",
    "def calculate_redshift(spectrum, emission_lines):\n",
    "\n",
    "    wavelength = spectrum[:, 0]\n",
    "    flux = spectrum[:, 1]\n",
    "    errors = spectrum[:, 2]\n",
    "\n",
    "    # Find emission line peaks\n",
    "    peaks, _ = find_peaks(flux/max(flux), height=0.4)                                      # ADJUST\n",
    "    wavepeaks = np.array(wavelength[peaks])\n",
    "\n",
    "    # Generate a grid of redshifts\n",
    "    redshifts = np.arange(0, 3.5, 0.01)\n",
    "\n",
    "    # Calculate chi-squared values for each redshift\n",
    "    chi_squared_values = []\n",
    "\n",
    "    for redshift in redshifts:\n",
    "\n",
    "        # Deredshift the spectrum\n",
    "        deredshifted_wavelengths = wavepeaks / (1 + redshift)\n",
    "\n",
    "        # Calculate chi-squared for each emission line\n",
    "        chi_squared_line = []\n",
    "\n",
    "        for line in emission_lines:\n",
    "            # Define emission line\n",
    "            rest_wavelength = emission_lines[line]['wavelength'][0]\n",
    "\n",
    "            # Find the index of the closest value in the array\n",
    "            closest_index = np.argmin(np.abs(deredshifted_wavelengths - rest_wavelength))\n",
    "\n",
    "            # Get the closest value and the difference\n",
    "            closest_value = deredshifted_wavelengths[closest_index]\n",
    "            difference = np.abs(closest_value - rest_wavelength)\n",
    "\n",
    "            chi_squared_line.append(difference)\n",
    "\n",
    "        # Calculate total chi-squared for the redshift\n",
    "        chi_squared_total = np.sum(chi_squared_line)\n",
    "        chi_squared_values.append(chi_squared_total)\n",
    "\n",
    "\n",
    "    # Find the redshift with the minimum chi-squared value\n",
    "    best_redshift_index = np.argmin(chi_squared_values)\n",
    "    best_redshift = redshifts[best_redshift_index]\n",
    "    best_chi_squared = chi_squared_values[best_redshift_index]\n",
    "\n",
    "    deredshifted_wavelengths1 = wavelength / (1 + best_redshift)\n",
    "\n",
    "    return best_redshift, best_chi_squared"
   ],
   "outputs": [],
   "execution_count": null
  },
  {
   "cell_type": "markdown",
   "id": "fP7itbKutSGU",
   "metadata": {
    "id": "fP7itbKutSGU"
   },
   "source": [
    "#####Extract Redshift P.2"
   ]
  },
  {
   "cell_type": "code",
   "id": "vNCNKqGy9l5g",
   "metadata": {
    "id": "vNCNKqGy9l5g"
   },
   "source": [
    "SNR_emission_lines = {\n",
    "  'He-II,1': {'wavelength': [3202.15]},\n",
    "  'He-II,2': {'wavelength': [4685.74]},\n",
    "  'Ne-V,1':  {'wavelength': [3345.81]},\n",
    "  'Ne-V,2':  {'wavelength': [3425.81]},\n",
    "  'O-II,1':  {'wavelength': [3726.03]},\n",
    "  'O-II,2':  {'wavelength': [3728.73]},\n",
    "  'Ne-III,1': {'wavelength': [3868.69]},\n",
    "  'Ne-III,2': {'wavelength': [3967.40]},\n",
    "  'H-ζ':    {'wavelength': [3889.05]},\n",
    "  'H-ε':    {'wavelength': [3970.07]},\n",
    "  'H-δ':    {'wavelength': [4101.73]},\n",
    "  'H-γ':    {'wavelength': [4340.46]},\n",
    "  'O-III,0':  {'wavelength': [4363.15]},\n",
    "  'O-III,1':  {'wavelength': [4958.83]},\n",
    "  'O-III,2':  {'wavelength': [5006.77]},\n",
    "  'Ar-IV,1':  {'wavelength': [4711.30]},\n",
    "  'Ar-IV,2':  {'wavelength': [4740.10]},\n",
    "  'H-β':     {'wavelength': [4861.32]},\n",
    "  'N-I,1':    {'wavelength': [5197.90]},\n",
    "  'N-I,2':    {'wavelength': [5200.39]},\n",
    "  'He-I':   {'wavelength': [5875.60]},\n",
    "  'O-I,1':   {'wavelength': [6300.20]},\n",
    "  'O-I,2':   {'wavelength': [6363.67]},\n",
    "  'N-II,1':   {'wavelength': [6547.96]},\n",
    "  'N-II,2':   {'wavelength': [6583.34]},\n",
    "  'H-α':     {'wavelength': [6562.80]},\n",
    "  'S-II,1':  {'wavelength': [6716.31]},\n",
    "  'S-II,2':   {'wavelength': [6730.68]},\n",
    "  'Ar-III': {'wavelength': [7135.67]},\n",
    "  'O VI': {'wavelength': [1033.82]},\n",
    "  'Ly-alpha': {'wavelength': [1215.24]},\n",
    "  'N V': {'wavelength': [1305.53]},\n",
    "  'C II': {'wavelength': [1397.61]},\n",
    "  'Si IV': {'wavelength': [1399.80]},\n",
    "  'C IV': {'wavelength': [1640.40]},\n",
    "  'He II': {'wavelength': [1665.85]},\n",
    "  'Al III': {'wavelength': [1908.73]},\n",
    "  'Mg II': {'wavelength': [3346.79]},\n",
    "  'Ne VI': {'wavelength': [3727.09]}\n",
    "}"
   ],
   "outputs": [],
   "execution_count": null
  },
  {
   "cell_type": "code",
   "id": "-rZc-Kftt332",
   "metadata": {
    "colab": {
     "base_uri": "https://localhost:8080/"
    },
    "collapsed": true,
    "executionInfo": {
     "elapsed": 1252,
     "status": "ok",
     "timestamp": 1725521713424,
     "user": {
      "displayName": "Aksita Deo",
      "userId": "10398143209524373510"
     },
     "user_tz": -600
    },
    "id": "-rZc-Kftt332",
    "jupyter": {
     "outputs_hidden": true
    },
    "outputId": "65df7ef9-1558-474d-b949-3794cbbfe94d"
   },
   "source": [
    "!pip install specutils"
   ],
   "outputs": [],
   "execution_count": null
  },
  {
   "cell_type": "code",
   "id": "BXt2k_hW0KAq",
   "metadata": {
    "colab": {
     "base_uri": "https://localhost:8080/"
    },
    "executionInfo": {
     "elapsed": 4,
     "status": "ok",
     "timestamp": 1725521713424,
     "user": {
      "displayName": "Aksita Deo",
      "userId": "10398143209524373510"
     },
     "user_tz": -600
    },
    "id": "BXt2k_hW0KAq",
    "outputId": "49559acd-d11e-4700-b49e-bb22d98a4dcf"
   },
   "source": [
    "print(np.__version__)"
   ],
   "outputs": [],
   "execution_count": null
  },
  {
   "cell_type": "code",
   "id": "oC_xepmwy2_H",
   "metadata": {
    "colab": {
     "background_save": true,
     "base_uri": "https://localhost:8080/"
    },
    "id": "oC_xepmwy2_H"
   },
   "source": [
    "from specutils import Spectrum1D\n",
    "import astropy.units as u\n",
    "\n",
    "\n",
    "# Create a Spectrum1D object\n",
    "# Flux and wavelength data (no explicit units)\n",
    "flux = np.array([1, 2, 3]) * u.dimensionless_unscaled\n",
    "wavelength = np.array([4000, 5000, 6000]) * u.angstrom\n",
    "\n",
    "# Create a Spectrum1D object without units (not recommended)\n",
    "spectrum = Spectrum1D(flux=flux, spectral_axis=wavelength);\n",
    "\n",
    "# Access properties\n",
    "print(spectrum.flux)  # Output: [1 2 3]\n",
    "print(spectrum.wavelength)  # Output: [4000 5000 6000]\n",
    "print(spectrum.unit)  # Output: Angstrom\n",
    "\n",
    "# Plot the spectrum\n",
    "spectrum.plot()"
   ],
   "outputs": [],
   "execution_count": null
  },
  {
   "cell_type": "code",
   "id": "8o1gZUkxtW5F",
   "metadata": {
    "colab": {
     "background_save": true,
     "base_uri": "https://localhost:8080/"
    },
    "id": "8o1gZUkxtW5F"
   },
   "source": [
    "from specutils.analysis import template_match\n",
    "from specutils import Spectrum1D\n",
    "# from specutils.uncertainty import StdDevUncertainty\n",
    "\n",
    "from astropy.nddata import StdDevUncertainty"
   ],
   "outputs": [],
   "execution_count": null
  },
  {
   "cell_type": "code",
   "id": "66Vs19rKyTHF",
   "metadata": {
    "colab": {
     "background_save": true,
     "base_uri": "https://localhost:8080/"
    },
    "id": "66Vs19rKyTHF"
   },
   "source": [
    "tempfile = ('/Users/aksitadeo/PycharmProjects/spelfig_aksita/template/liner_template.fits')\n",
    "temp_file = fits.open(tempfile)\n",
    "\n",
    "temp_file.info()"
   ],
   "outputs": [],
   "execution_count": null
  },
  {
   "cell_type": "code",
   "id": "LN5dMftzybp1",
   "metadata": {
    "colab": {
     "background_save": true,
     "base_uri": "https://localhost:8080/"
    },
    "id": "LN5dMftzybp1"
   },
   "source": [
    "tdata = temp_file[1].data\n",
    "tdata['WAVELENGTH']"
   ],
   "outputs": [],
   "execution_count": null
  },
  {
   "cell_type": "code",
   "id": "Y4gEC6oltXKy",
   "metadata": {
    "colab": {
     "background_save": true,
     "base_uri": "https://localhost:8080/"
    },
    "id": "Y4gEC6oltXKy"
   },
   "source": [
    "template_spectra = []\n",
    "\n",
    "dir = '/Users/aksitadeo/PycharmProjects/spelfig_aksita/template/'\n",
    "template_filenames = [f for f in os.listdir(dir) if f.endswith('.fits')]\n",
    "\n",
    "for filename in template_filenames:\n",
    "    full_dir = os.path.join(dir, filename)\n",
    "    template_data = fits.open(full_dir)\n",
    "\n",
    "    wavelength = template_data[1].data['WAVELENGTH'] * u.Angstrom\n",
    "    flux = template_data[1].data['FLUX'] * u.Jy\n",
    "\n",
    "    spect0 = Spectrum1D(flux=flux, spectral_axis=wavelength)\n",
    "    template_spectra.append(spect0)"
   ],
   "outputs": [],
   "execution_count": null
  },
  {
   "cell_type": "code",
   "id": "L0PUaoCK2fHV",
   "metadata": {
    "id": "L0PUaoCK2fHV"
   },
   "source": [
    "testerdata = Spectrum1D(flux=manga_flux * u.Jy, spectral_axis=manga_wave * u.Angstrom, uncertainty = StdDevUncertainty(manga_error), unit='Jy')\n",
    "\n",
    "testerred = np.arange(0.05, 2.4, 0.01)"
   ],
   "outputs": [],
   "execution_count": null
  },
  {
   "cell_type": "code",
   "id": "REXvmHnF3MIU",
   "metadata": {
    "colab": {
     "base_uri": "https://localhost:8080/"
    },
    "id": "REXvmHnF3MIU",
    "outputId": "13273f92-e8a7-488f-810e-7e63bb402a41"
   },
   "source": [
    "normspec, redshiftspec, chiindexspec, chiminspec, chilist = template_match(testerdata, template_spectra, redshift=testerred)"
   ],
   "outputs": [],
   "execution_count": null
  },
  {
   "cell_type": "code",
   "id": "txB6xrme8am7",
   "metadata": {
    "colab": {
     "base_uri": "https://localhost:8080/"
    },
    "executionInfo": {
     "elapsed": 321,
     "status": "ok",
     "timestamp": 1725521487159,
     "user": {
      "displayName": "Aksita Deo",
      "userId": "10398143209524373510"
     },
     "user_tz": -600
    },
    "id": "txB6xrme8am7",
    "outputId": "d55bfc3d-0607-481b-c1ab-972afc8367eb"
   },
   "source": [
    "redshiftspec"
   ],
   "outputs": [],
   "execution_count": null
  },
  {
   "cell_type": "code",
   "id": "zt0pyTZq8gZy",
   "metadata": {
    "colab": {
     "base_uri": "https://localhost:8080/",
     "height": 501
    },
    "executionInfo": {
     "elapsed": 2499,
     "status": "ok",
     "timestamp": 1725521512980,
     "user": {
      "displayName": "Aksita Deo",
      "userId": "10398143209524373510"
     },
     "user_tz": -600
    },
    "id": "zt0pyTZq8gZy",
    "outputId": "762b9882-795f-4cf1-c87d-9e220d49fffe"
   },
   "source": [
    "plt.plot(manga_wave, manga_flux, label ='observed',color = 'red',alpha= 0.5)\n",
    "plt.plot(manga_wave/(1+redshiftspec), manga_flux, label ='rest',color='blue', alpha = 1)\n",
    "\n",
    "# Plot vertical lines for emission lines\n",
    "for line_name, line_data in SNR_emission_lines.items():\n",
    "    for rest_wavelength in line_data['wavelength']:\n",
    "        plt.vlines(rest_wavelength,ymin=min(manga_flux),ymax=max(manga_flux), color='black', linestyle='-.',alpha = 0.8)\n",
    "        # plt.axvline(rest_wavelength, color='black', linestyle='--',alpha = 0.2)\n",
    "\n",
    "plt.xlabel('Wavelength')\n",
    "plt.ylabel('Flux')\n",
    "\n",
    "plt.legend()\n",
    "plt.show()"
   ],
   "outputs": [],
   "execution_count": null
  },
  {
   "cell_type": "code",
   "id": "bfc598536dce7eb3",
   "metadata": {},
   "source": [
    "def redshift_templ(spectrum, Plot=False):\n",
    "\n",
    "  wavelength = spectrum[:, 0]\n",
    "  fluxes = spectrum[:, 1]\n",
    "  errors = spectrum[:, 2]\n",
    "\n",
    "  speconed_data = Spectrum1D(flux=fluxes * u.Jy, spectral_axis=wavelength * u.Angstrom, uncertainty = StdDevUncertainty(errors), unit='Jy')\n",
    "  redshift_range = np.arange(0.05, 2.49, 0.01)\n",
    "\n",
    "  normspec, redshiftspec, chiindexspec, chiminspec, chilist = template_match(speconed_data, template_spectra, redshift=redshift_range)\n",
    "  \n",
    "  if Plot==True:\n",
    "      plt.plot(wavelength, fluxes, label ='observed',color = 'red',alpha= 0.5)\n",
    "      plt.plot(wavelength/(1+redshiftspec), fluxes, label ='rest',color='blue', alpha = 1)\n",
    "        \n",
    "        # Plot vertical lines for emission lines\n",
    "      for line_name, line_data in SNR_emission_lines.items():\n",
    "          for rest_wavelength in line_data['wavelength']:\n",
    "              plt.vlines(rest_wavelength,ymin=min(fluxes),ymax=max(fluxes), color='black', linestyle='-.',alpha = 0.8)\n",
    "                # plt.axvline(rest_wavelength, color='black', linestyle='--',alpha = 0.2)\n",
    "        \n",
    "      plt.xlabel('Wavelength')\n",
    "      plt.ylabel('Flux')\n",
    "        \n",
    "      plt.legend()\n",
    "      plt.show()\n",
    "      \n",
    "      \n",
    "  return redshiftspec"
   ],
   "outputs": [],
   "execution_count": null
  },
  {
   "metadata": {},
   "cell_type": "code",
   "source": "import redshifts as reds ",
   "id": "e6bfc940e75ed2e2",
   "outputs": [],
   "execution_count": null
  },
  {
   "metadata": {},
   "cell_type": "code",
   "source": "reds.initialise_templates('/Users/aksitadeo/PycharmProjects/spelfig_aksita/template/')",
   "id": "8a7484093a4d3f0d",
   "outputs": [],
   "execution_count": null
  },
  {
   "cell_type": "markdown",
   "id": "NtWOzHAFwZjj",
   "metadata": {
    "id": "NtWOzHAFwZjj"
   },
   "source": [
    "#####Extract SNR"
   ]
  },
  {
   "cell_type": "code",
   "id": "_4l1g9X8ZFlF",
   "metadata": {
    "id": "_4l1g9X8ZFlF"
   },
   "source": [
    "from scipy.signal import find_peaks, peak_widths\n",
    "from scipy.optimize import curve_fit"
   ],
   "outputs": [],
   "execution_count": null
  },
  {
   "cell_type": "code",
   "id": "Vk1zMX1cFfdk",
   "metadata": {
    "id": "Vk1zMX1cFfdk"
   },
   "source": [
    "SNR_emission_lines = {\n",
    "\t'He-II,1': {'wavelength':[3202.15]},\n",
    "\t'He-II,2': {'wavelength':[4685.74]},\n",
    "\t'Ne-V,1':  {'wavelength':[3345.81]},\n",
    "\t'Ne-V,2':  {'wavelength':[3425.81]},\n",
    "\t'O-II,1':  {'wavelength':[3726.03]},\n",
    "\t'O-II,2':  {'wavelength':[3728.73]},\n",
    "\t'Ne-III,1': {'wavelength':[3868.69]},\n",
    "\t'Ne-III,2': {'wavelength':[3967.40]},\n",
    "\t'H-ζ':    {'wavelength':[3889.05]},\n",
    "\t'H-ε':    {'wavelength':[3970.07]},\n",
    "\t'H-δ':    {'wavelength':[4101.73]},\n",
    "\t'H-γ':    {'wavelength':[4340.46]},\n",
    "\t'O-III,0':  {'wavelength':[4363.15]},\n",
    "\t'O-III,1':  {'wavelength':[4958.83]},\n",
    "\t'O-III,2':  {'wavelength':[5006.77]},\n",
    "\t'Ar-IV,1':  {'wavelength':[4711.30]},\n",
    "\t'Ar-IV,2':  {'wavelength':[4740.10]},\n",
    "\t'H-β':     {'wavelength':[4861.32]},\n",
    "\t'N-I,1':    {'wavelength':[5197.90]},\n",
    "\t'N-I,2':    {'wavelength':[5200.39]},\n",
    "\t'He-I':   {'wavelength':[5875.60]},\n",
    "\t'O-I,1':   {'wavelength':[6300.20]},\n",
    "\t'O-I,2':   {'wavelength':[6363.67]},\n",
    "\t'N-II,1':   {'wavelength':[6547.96]},\n",
    "\t'N-II,2':   {'wavelength':[6583.34]},\n",
    "\t'H-α':     {'wavelength':[6562.80]},\n",
    "\t'S-II,1':  {'wavelength': [6716.31]},\n",
    "\t'S-II,2':   {'wavelength':[6730.68]},\n",
    "\t'Ar-III': {'wavelength':[7135.67]},\n",
    "\t'O VI': {'wavelength': [1033.82]},\n",
    "\t'Ly-alpha': {'wavelength': [1215.24]},\n",
    "\t'N V': {'wavelength': [1305.53]},\n",
    "\t'Si IV + O IV': {'wavelength': [1549.48]},\n",
    "\t'C IV': {'wavelength': [1640.40]},\n",
    "\t'C III': {'wavelength': [2326.00]},\n",
    "\t'Mg II': {'wavelength': [3346.79]},\n",
    "\t}"
   ],
   "outputs": [],
   "execution_count": null
  },
  {
   "cell_type": "code",
   "id": "F-igJT5UY4c0",
   "metadata": {
    "colab": {
     "base_uri": "https://localhost:8080/"
    },
    "executionInfo": {
     "elapsed": 10,
     "status": "ok",
     "timestamp": 1725515678891,
     "user": {
      "displayName": "Aksita Deo",
      "userId": "10398143209524373510"
     },
     "user_tz": -600
    },
    "id": "F-igJT5UY4c0",
    "outputId": "10b418c6-e5cd-45b0-a499-f29a05d26b26"
   },
   "source": [
    "SNR_emission_lines['O-III,0']['wavelength'][0]"
   ],
   "outputs": [],
   "execution_count": null
  },
  {
   "cell_type": "code",
   "id": "aZadt3u0EDZ2",
   "metadata": {
    "id": "aZadt3u0EDZ2"
   },
   "source": [
    "def extract_snr(spectrum, redshift, line=None):\n",
    "\n",
    "  wavelength = spectrum[:, 0]/(1+redshift)\n",
    "  flux = spectrum[:, 1]\n",
    "  errors = spectrum[:, 2]\n",
    "\n",
    "  # Select which line from the emission lines to use\n",
    "  rest_wavelength = SNR_emission_lines[line]['wavelength'][0] if line is not None else SNR_emission_lines['O-III,0']['wavelength'][0]\n",
    "\n",
    "  # Identify the correct peaks\n",
    "  lower_bound = rest_wavelength - 30\n",
    "  upper_bound = rest_wavelength + 30\n",
    "  mask = (wavelength >= lower_bound) & (wavelength <= upper_bound)\n",
    "  window_flux = flux[mask]\n",
    "  window_wavelengths = wavelength[mask]\n",
    "\n",
    "  peaks, _ = find_peaks(window_flux, prominence=0.5)\n",
    "  closest_peak_idx = None\n",
    "  min_diff = float('inf')\n",
    "\n",
    "  for peak_idx in peaks:\n",
    "\n",
    "    observed_wavelength = window_wavelengths[peak_idx]\n",
    "    diff = abs(observed_wavelength - rest_wavelength)\n",
    "\n",
    "    if diff < min_diff:\n",
    "        min_diff = diff\n",
    "        closest_peak_idx = peak_idx\n",
    "\n",
    "  if closest_peak_idx is not None:\n",
    "      peak_flux = window_flux[peak_idx]\n",
    "\n",
    "  else:\n",
    "      print(\"Closest peak index not found for line:\", line)\n",
    "\n",
    "  # Define continuum\n",
    "\n",
    "  continuum_mask = (wavelength >= lower_bound) & (wavelength <= upper_bound)\n",
    "  continuum_data = flux[continuum_mask]\n",
    "  continuum_wavelengths = wavelength[continuum_mask]\n",
    "\n",
    "  continuum_fit = np.polyfit(continuum_wavelengths, continuum_data, deg=1)\n",
    "  continuum_model = np.polyval(continuum_fit, continuum_wavelengths)\n",
    "\n",
    "  local_std = np.std(continuum_model)\n",
    "  local_mean = np.mean(continuum_model)\n",
    "\n",
    "  # Define SNR\n",
    "  snr = (peak_flux - local_mean) / local_std if local_std > 0 else print('huh')\n",
    "  print('SNR is ', snr)\n",
    "\n",
    "  return snr"
   ],
   "outputs": [],
   "execution_count": null
  },
  {
   "cell_type": "markdown",
   "id": "wO0Zl1EYwfUi",
   "metadata": {
    "id": "wO0Zl1EYwfUi"
   },
   "source": [
    "####**Final Function**"
   ]
  },
  {
   "cell_type": "code",
   "id": "66BBQrbevpXZ",
   "metadata": {
    "id": "66BBQrbevpXZ"
   },
   "source": [
    "spec_dict = {\n",
    "\n",
    "    'ID' : [],\n",
    "    'SPECTRA': [],\n",
    "    'SNR' : [],\n",
    "    'REDSHIFT' : []\n",
    "\n",
    "             }"
   ],
   "outputs": [],
   "execution_count": null
  },
  {
   "cell_type": "code",
   "id": "Vjb8L8CCyq_s",
   "metadata": {
    "colab": {
     "base_uri": "https://localhost:8080/"
    },
    "executionInfo": {
     "elapsed": 6930,
     "status": "ok",
     "timestamp": 1725515685813,
     "user": {
      "displayName": "Aksita Deo",
      "userId": "10398143209524373510"
     },
     "user_tz": -600
    },
    "id": "Vjb8L8CCyq_s",
    "outputId": "6259d8b6-cb6b-46ca-86f4-08707eef235c"
   },
   "source": [
    "import os\n",
    "\n",
    "directory = '/Users/aksitadeo/PycharmProjects/spelfig_aksita/input'\n",
    "\n",
    "for file in os.listdir(directory):\n",
    "    filename = os.fsdecode(file)\n",
    "    if filename.endswith(\".fits\"): # filename.startswith(\"manga\") and\n",
    "        print(os.path.join(directory, filename))\n",
    "        full_dir = os.path.join(directory, filename)\n",
    "\n",
    "        # id\n",
    "        spec_dict['ID'].append(filename)                                        # to be edited by JL\n",
    "\n",
    "        # spectra\n",
    "        data = extract_astronomical_data(full_dir)\n",
    "        spec_dict['SPECTRA'].append(data)\n",
    "\n",
    "        redshift\n",
    "        redshift = redshift_templ(data,Plot=True)\n",
    "        print(\"Has a redshift of \", redshift)\n",
    "        spec_dict['REDSHIFT'].append(redshift)\n",
    "\n",
    "        # snr\n",
    "        try:\n",
    "          snr = extract_snr(data, redshift, line='O-III,0')\n",
    "          spec_dict['SNR'].append(snr)\n",
    "        except:\n",
    "          print('UnboundLocalError')\n",
    "          spec_dict['SNR'].append(0)\n",
    "\n",
    "        continue\n",
    "    else:\n",
    "        continue"
   ],
   "outputs": [],
   "execution_count": null
  },
  {
   "cell_type": "code",
   "id": "L_630YrDks-N",
   "metadata": {
    "colab": {
     "base_uri": "https://localhost:8080/"
    },
    "collapsed": true,
    "executionInfo": {
     "elapsed": 34,
     "status": "ok",
     "timestamp": 1725515685813,
     "user": {
      "displayName": "Aksita Deo",
      "userId": "10398143209524373510"
     },
     "user_tz": -600
    },
    "id": "L_630YrDks-N",
    "jupyter": {
     "outputs_hidden": true
    },
    "outputId": "9539dfaa-dc7e-4d3c-8983-2c5a8b2fee68"
   },
   "source": [
    "spec_dict"
   ],
   "outputs": [],
   "execution_count": null
  },
  {
   "cell_type": "code",
   "id": "OPycKxMv-YBF",
   "metadata": {
    "colab": {
     "base_uri": "https://localhost:8080/",
     "height": 519
    },
    "executionInfo": {
     "elapsed": 2415,
     "status": "ok",
     "timestamp": 1725515688201,
     "user": {
      "displayName": "Aksita Deo",
      "userId": "10398143209524373510"
     },
     "user_tz": -600
    },
    "id": "OPycKxMv-YBF",
    "outputId": "ab77df56-09f5-4fe8-bfab-9cc3008556c3"
   },
   "source": [
    "plt.plot(spec_dict['SPECTRA'][0].T[0]/(spec_dict['REDSHIFT'][0]), spec_dict['SPECTRA'][0].T[1], label = 'spectra');\n",
    "# plt.plot(spec_dict['SPECTRA'][-2].T[0], spec_dict['SPECTRA'][-2].T[2]-100,label = 'errors');\n",
    "plt.legend()"
   ],
   "outputs": [],
   "execution_count": null
  },
  {
   "cell_type": "code",
   "id": "2164247f3366b7ef",
   "metadata": {},
   "source": "redshift_templ(spec_dict['SPECTRA'][0],Plot=True)",
   "outputs": [],
   "execution_count": null
  },
  {
   "cell_type": "code",
   "id": "1eef2c5ed1f8355c",
   "metadata": {},
   "source": "redshift_templ(spec_dict['SPECTRA'][0], Plot=True)",
   "outputs": [],
   "execution_count": null
  },
  {
   "cell_type": "code",
   "id": "9abfcf9dfd3526c",
   "metadata": {},
   "source": [
    "plt.plot(spec_dict['SPECTRA'][0].T[0],spec_dict['SPECTRA'][0].T[1])"
   ],
   "outputs": [],
   "execution_count": null
  },
  {
   "cell_type": "markdown",
   "id": "2df14311f63f6857",
   "metadata": {
    "id": "2df14311f63f6857"
   },
   "source": [
    "# Further steps: Automatic algorithm of fitting.\n",
    "Given a set of different AGN spectra, we must figure out a good set of automatic steps to:\n",
    "* Start from a baseline model for all AGN. Produce a first fitting\n",
    "* Add components in an automatic way to the emission profiles that require them (problem: they might be different distributions, and profiles in certain cases might be very broadened and extreme).\n",
    "* Once we got this cycled solved, transform all of this into an automatic set of scripts, instead of notebook.\n",
    "* Upload the resultant code to a GitHub."
   ]
  },
  {
   "cell_type": "code",
   "id": "444c109fe4855e4a",
   "metadata": {
    "id": "444c109fe4855e4a"
   },
   "source": [],
   "outputs": [],
   "execution_count": null
  },
  {
   "cell_type": "code",
   "id": "6b93db1f479e24ba",
   "metadata": {
    "id": "6b93db1f479e24ba"
   },
   "source": [],
   "outputs": [],
   "execution_count": null
  },
  {
   "cell_type": "code",
   "id": "738dbed390d9418a",
   "metadata": {
    "collapsed": true,
    "id": "738dbed390d9418a",
    "jupyter": {
     "outputs_hidden": true
    }
   },
   "source": [],
   "outputs": [],
   "execution_count": null
  },
  {
   "cell_type": "code",
   "id": "9614fa73c833fada",
   "metadata": {
    "id": "9614fa73c833fada"
   },
   "source": [],
   "outputs": [],
   "execution_count": null
  },
  {
   "cell_type": "code",
   "id": "e2fe11151e80ae51",
   "metadata": {
    "id": "e2fe11151e80ae51"
   },
   "source": [],
   "outputs": [],
   "execution_count": null
  }
 ],
 "metadata": {
  "colab": {
   "name": "",
   "version": ""
  },
  "kernelspec": {
   "display_name": "Python 3 (ipykernel)",
   "language": "python",
   "name": "python3"
  },
  "language_info": {
   "codemirror_mode": {
    "name": "ipython",
    "version": 3
   },
   "file_extension": ".py",
   "mimetype": "text/x-python",
   "name": "python",
   "nbconvert_exporter": "python",
   "pygments_lexer": "ipython3",
   "version": "3.11.5"
  }
 },
 "nbformat": 4,
 "nbformat_minor": 5
}
